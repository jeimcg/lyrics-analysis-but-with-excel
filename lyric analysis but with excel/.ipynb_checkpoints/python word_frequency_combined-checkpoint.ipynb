{
 "cells": [
  {
   "cell_type": "code",
   "execution_count": null,
   "id": "3181f51d-d659-43ad-9ebc-dee8717970df",
   "metadata": {},
   "outputs": [],
   "source": [
    "import pandas as pd\n",
    "import collections import Counter\n",
    "import re"
   ]
  },
  {
   "cell_type": "code",
   "execution_count": null,
   "id": "0d0daea6-53e4-4658-bd0c-eebd81f12f65",
   "metadata": {},
   "outputs": [],
   "source": [
    "file_name = \"lyrics_combined.xlsx\"\n",
    "sheet_name = \"Sheet1\""
   ]
  },
  {
   "cell_type": "code",
   "execution_count": null,
   "id": "8a5f74b9-e0cd-44df-9af0-90b1c20729e2",
   "metadata": {},
   "outputs": [],
   "source": [
    "data = pd.read_excel(file_name, sheet_name=sheet_name, usecols=[\"A\"])\n",
    "lyrics = data.iloc[0, 0]"
   ]
  },
  {
   "cell_type": "code",
   "execution_count": null,
   "id": "572cc931-5594-4574-9921-e7f674413274",
   "metadata": {},
   "outputs": [],
   "source": [
    "cleaned_lyrics = re.sub(r'[^\\w\\s]', '', lyrics.lower())\n",
    "words = cleaned_lyrics.split()"
   ]
  },
  {
   "cell_type": "code",
   "execution_count": null,
   "id": "29333efc-fb44-4f04-9878-1acc02ca17fd",
   "metadata": {},
   "outputs": [],
   "source": [
    "word_counts =Counter(words)"
   ]
  },
  {
   "cell_type": "code",
   "execution_count": null,
   "id": "6885ec69-60df-4b63-8b3a-70810b3baf27",
   "metadata": {},
   "outputs": [],
   "source": [
    "output_df = pd.Dataframe(word_counts.items(), columns=[\"Word\", \"Frequency\"])\n",
    "output_file_name = \"word_frequencies.xlsx\n",
    "output_df.to_excel(output_file_name, index=False)"
   ]
  },
  {
   "cell_type": "code",
   "execution_count": null,
   "id": "8d2a944f-f3dd-47aa-8511-dac0b8f07377",
   "metadata": {},
   "outputs": [],
   "source": [
    "print(f\"Word frequency analysis complete! Results saved to {output_file_name}.\")"
   ]
  }
 ],
 "metadata": {
  "kernelspec": {
   "display_name": "Python 3 (ipykernel)",
   "language": "python",
   "name": "python3"
  },
  "language_info": {
   "codemirror_mode": {
    "name": "ipython",
    "version": 3
   },
   "file_extension": ".py",
   "mimetype": "text/x-python",
   "name": "python",
   "nbconvert_exporter": "python",
   "pygments_lexer": "ipython3",
   "version": "3.12.2"
  }
 },
 "nbformat": 4,
 "nbformat_minor": 5
}
