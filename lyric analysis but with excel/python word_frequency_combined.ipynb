{
 "cells": [
  {
   "cell_type": "code",
   "execution_count": null,
   "id": "91bcfe42-c297-4170-85d9-2af72e22c160",
   "metadata": {},
   "outputs": [],
   "source": [
    "import pandas as pd # importing needed libraries\n",
    "from collections import Counter\n",
    "import re\n",
    "\n",
    "file_name = \"lyrics_combined.xlsx\" # identifying file + sheet\n",
    "sheet_name = \"Sheet1\"\n",
    "\n",
    "data = pd.read_excel(file_name, sheet_name=sheet_name, usecols=[\"A\"]) # reading names in column a in excel\n",
    "lyrics = data.iloc[0, 0] # expected cell\n",
    "\n",
    "cleaned_lyrics = re.sub(r'[^\\w\\s]', '', lyrics.lower()) #creating cleaned lyric that is lower cased/punc. removed\n",
    "words = cleaned_lyrics.split()\n",
    "\n",
    "# lowercase_lyrics = lyrics.lower() #^ - breaking the nested function above down into lowercase first\n",
    "# cleaned_lyrics = re.sub(r'[^\\w\\s]', '', lowercase_lyrics) - identifying cleaned lyrics\n",
    "\n",
    "stop_words = {\"a\", \"about\", \"above\", \"after\", \"again\", \"against\", \"ain\", \"all\", \"am\", \"an\", \"and\", \"any\", \"are\", \"aren\", \"aren't\", \"as\", \"at\", \"be\", \"because\", \"been\", \"before\", \"being\", \"below\", \"between\", \"both\", \"but\", \"by\", \"can\", \"couldn\", \"couldn't\", \"d\", \"did\", \"didn\", \"didn't\", \"do\", \"does\", \"doesn\", \"doesn't\", \"doing\", \"don\", \"don't\", \"down\", \"during\", \"each\", \"few\", \"for\", \"from\", \"further\", \"had\", \"hadn\", \"hadn't\", \"has\", \"hasn\", \"hasn't\", \"have\", \"haven\", \"haven't\", \"having\", \"he\", \"her\", \"here\", \"hers\", \"herself\", \"him\", \"himself\", \"his\", \"how\", \"i\", \"if\", \"in\", \"into\", \"is\", \"isn\", \"isn't\", \"it\", \"it's\", \"its\", \"itself\", \"just\", \"ll\", \"m\", \"ma\", \"me\", \"mightn\", \"mightn't\", \"more\", \"most\", \"mustn\", \"mustn't\", \"my\", \"myself\", \"needn\", \"needn't\", \"no\", \"nor\", \"not\", \"now\", \"o\", \"of\", \"off\", \"on\", \"once\", \"only\", \"or\", \"other\", \"our\", \"ours\", \"ourselves\", \"out\", \"over\", \"own\", \"re\", \"s\", \"same\", \"shan\", \"shan't\", \"she\", \"she's\", \"should\", \"should've\", \"shouldn\", \"shouldn't\", \"so\", \"some\", \"such\", \"t\", \"than\", \"that\", \"that'll\", \"the\", \"their\", \"theirs\", \"them\", \"themselves\", \"then\", \"there\", \"these\", \"they\", \"this\", \"those\", \"through\", \"to\", \"too\", \"under\", \"until\", \"up\", \"ve\", \"very\", \"was\", \"wasn\", \"wasn't\", \"we\", \"were\", \"weren\", \"weren't\", \"what\", \"when\", \"where\", \"which\", \"while\", \"who\", \"whom\", \"why\", \"will\", \"with\", \"won\", \"won't\", \"wouldn\", \"wouldn't\", \"y\", \"you\", \"you'd\", \"you'll\", \"you're\", \"you've\", \"your\", \"yours\", \"yourself\", \"yourselves\", \"could\", \"he'd\", \"he'll\", \"he's\", \"here's\", \"how's\", \"i'd\", \"i'll\", \"i'm\", \"i've\", \"let's\", \"ought\", \"she'd\", \"she'll\", \"that's\", \"there's\", \"they'd\", \"they'll\", \"they're\", \"they've\", \"we'd\", \"we'll\", \"we're\", \"we've\", \"what's\", \"when's\", \"where's\", \"who's\", \"why's\", \"would\"}\n",
    "filtered_words = [word for word in words if word not in stop_words]\n",
    "\n",
    "word_counts = Counter(filtered_words)\n",
    "\n",
    "output_df = pd.DataFrame(word_counts.items(), columns=[\"Word\", \"Frequency\"])\n",
    "output_file_name = \"filtered_word_frequencies_pt2.xlsx\"\n",
    "output_df.to_excel(output_file_name, index=False)\n",
    "\n",
    "print(f\"Word frequency analysis complete! Results saved to {output_file_name}.\")"
   ]
  }
 ],
 "metadata": {
  "kernelspec": {
   "display_name": "Python 3 (ipykernel)",
   "language": "python",
   "name": "python3"
  },
  "language_info": {
   "codemirror_mode": {
    "name": "ipython",
    "version": 3
   },
   "file_extension": ".py",
   "mimetype": "text/x-python",
   "name": "python",
   "nbconvert_exporter": "python",
   "pygments_lexer": "ipython3",
   "version": "3.12.2"
  }
 },
 "nbformat": 4,
 "nbformat_minor": 5
}
