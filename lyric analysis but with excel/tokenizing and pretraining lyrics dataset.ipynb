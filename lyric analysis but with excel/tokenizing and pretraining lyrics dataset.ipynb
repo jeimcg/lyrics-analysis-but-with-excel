{
 "cells": [
  {
   "cell_type": "code",
   "execution_count": 1,
   "id": "7391d360-417f-4269-8464-cd252504e98f",
   "metadata": {},
   "outputs": [],
   "source": [
    "# tokenizing dataset"
   ]
  },
  {
   "cell_type": "code",
   "execution_count": 3,
   "id": "13c69e93-d96c-4a05-8dd1-0a488aa38832",
   "metadata": {},
   "outputs": [
    {
     "ename": "ModuleNotFoundError",
     "evalue": "No module named 'transformers'",
     "output_type": "error",
     "traceback": [
      "\u001b[0;31m---------------------------------------------------------------------------\u001b[0m",
      "\u001b[0;31mModuleNotFoundError\u001b[0m                       Traceback (most recent call last)",
      "Cell \u001b[0;32mIn[3], line 1\u001b[0m\n\u001b[0;32m----> 1\u001b[0m \u001b[38;5;28;01mfrom\u001b[39;00m \u001b[38;5;21;01mtransformers\u001b[39;00m \u001b[38;5;28;01mimport\u001b[39;00m XLNetTokenizer, XLNetForSequenceClassification, Trainer, TrainingArguments\n",
      "\u001b[0;31mModuleNotFoundError\u001b[0m: No module named 'transformers'"
     ]
    }
   ],
   "source": [
    "from transformers import XLNetTokenizer"
   ]
  },
  {
   "cell_type": "code",
   "execution_count": null,
   "id": "1842a75c-5901-4543-83eb-d135d0143c7a",
   "metadata": {},
   "outputs": [],
   "source": [
    "tokenizer = XLNetTokenizer.from_pretrained('xlnet-base-cased')"
   ]
  },
  {
   "cell_type": "code",
   "execution_count": null,
   "id": "8ff75830-0aa3-4a41-8cc0-eae64d52abcc",
   "metadata": {},
   "outputs": [],
   "source": [
    "def tokenize_text(file_path):\n",
    "    with open(file_path, \"r\") as f:\n",
    "        lines = f.readlines()\n",
    "    tokenized = [tokenizer(line, truncation=True, padding=\"max_length\", max_length=512)[\"input_ids\"] for line in lines]\n",
    "    return tokenized\n",
    "\n",
    "tokenized_data = tokenize_text(\"lyrics_dataset.txt\")"
   ]
  },
  {
   "cell_type": "code",
   "execution_count": null,
   "id": "29ed46a2-1350-4a6d-83cb-6ff555936802",
   "metadata": {},
   "outputs": [],
   "source": [
    "from datasets import Dataset\n",
    "raw_dataset = Dataset.from_dict({\"text\": lyrics.tolist()})\n",
    "tokenized_dataset = raw_dataset.map(tokenize_function, batched=True)"
   ]
  },
  {
   "cell_type": "code",
   "execution_count": null,
   "id": "716f046b-e52d-4af9-b0b7-a46324b22bfb",
   "metadata": {},
   "outputs": [],
   "source": [
    "# pretraining dataset"
   ]
  },
  {
   "cell_type": "code",
   "execution_count": null,
   "id": "8d8c53bf-3b04-4bec-8ce4-86efa30fd6c1",
   "metadata": {},
   "outputs": [],
   "source": [
    "from transformers import XLNetForSequenceClassification, Trainer, TrainingArguments"
   ]
  },
  {
   "cell_type": "code",
   "execution_count": null,
   "id": "42d6f807-6d8c-4052-9734-36a23557ff4a",
   "metadata": {},
   "outputs": [],
   "source": [
    "model = XLNetForSequenceClassification.from_pretrained(\"xlnet-base-cased\", num_labels=2)"
   ]
  },
  {
   "cell_type": "code",
   "execution_count": null,
   "id": "4a2a35fe-3334-4205-a618-66794de9f619",
   "metadata": {},
   "outputs": [],
   "source": [
    "training_args - TrainingArguments(\n",
    "    output_dir=\"./results\",\n",
    "    evaluation_strategy=\"epoch\",\n",
    "    per_device_train_batch_size = 8,\n",
    "    num_train_epochs = 3,\n",
    "    save_steps = 500,\n",
    "    logging_dir=\"./logs\"\n",
    ")"
   ]
  },
  {
   "cell_type": "code",
   "execution_count": null,
   "id": "a563f616-5c00-4bad-ba11-aa3e50895122",
   "metadata": {},
   "outputs": [],
   "source": [
    "trainer = Trainer(\n",
    "    model=model,\n",
    "    args=training_args,\n",
    "    train_dataset=tokenized_dataset\n",
    ")"
   ]
  },
  {
   "cell_type": "code",
   "execution_count": null,
   "id": "a4e9c220-0818-45ff-ab9a-a4d19d42e893",
   "metadata": {},
   "outputs": [],
   "source": [
    "trainer.train()"
   ]
  },
  {
   "cell_type": "code",
   "execution_count": null,
   "id": "7ed09200-994c-4eb0-ab44-087bb013c1fa",
   "metadata": {},
   "outputs": [],
   "source": [
    "model.save_pretrained(\"./lyrics_xlnet_model\")\n",
    "tokenizer.save_pretrained(\"./lyrics_xlnet_model\")"
   ]
  }
 ],
 "metadata": {
  "kernelspec": {
   "display_name": "Python 3 (ipykernel)",
   "language": "python",
   "name": "python3"
  },
  "language_info": {
   "codemirror_mode": {
    "name": "ipython",
    "version": 3
   },
   "file_extension": ".py",
   "mimetype": "text/x-python",
   "name": "python",
   "nbconvert_exporter": "python",
   "pygments_lexer": "ipython3",
   "version": "3.12.2"
  }
 },
 "nbformat": 4,
 "nbformat_minor": 5
}
