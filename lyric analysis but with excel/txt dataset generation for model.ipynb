{
 "cells": [
  {
   "cell_type": "markdown",
   "id": "992114ab-de45-4195-ac6c-0e9b71891630",
   "metadata": {},
   "source": [
    "cache_dir = os.environ[\"TRANSFORMERS_CACHE\"] # creating cache folder for transformers\n",
    "os.makedirs(cache_dir, exist_ok=True)\n",
    "print(f\"Transformers cache directory set to: {cache_dir}\")\n",
    "\n",
    "import os\n",
    "os.environ[\"TRANSFORMERS_CACHE\"] = \"/Users/jei/cache/huggingface/hub\"\n",
    "\n",
    "import transformers\n",
    "from transformers import XLNetTokenizer\n",
    "\n",
    "import os\n",
    "print(f\"Transformers cache location: {os.getenv(\"TRANSFORMERS_CACHE\", \"Default cache location\")}\")\n",
    "\n",
    "import torch\n",
    "print(f\"PyTorch version: {torch.__version__}\")\n",
    "\n",
    "import os\n",
    "\n",
    "# Set custom cache directory\n",
    "os.environ[\"TRANSFORMERS_CACHE\"] = \"/Users/jei/cache/huggingface/hub\"\n",
    "os.makedirs(os.environ[\"TRANSFORMERS_CACHE\"], exist_ok=True)"
   ]
  },
  {
   "cell_type": "code",
   "execution_count": null,
   "id": "d9bf6dbe-21f2-42ab-a05d-d1cfe92b06cc",
   "metadata": {},
   "outputs": [
    {
     "data": {
      "application/vnd.jupyter.widget-view+json": {
       "model_id": "98d6c94a3dd946f4aea322bf29be595c",
       "version_major": 2,
       "version_minor": 0
      },
      "text/plain": [
       "config.json:   0%|          | 0.00/285 [00:00<?, ?B/s]"
      ]
     },
     "metadata": {},
     "output_type": "display_data"
    },
    {
     "data": {
      "application/vnd.jupyter.widget-view+json": {
       "model_id": "ee3078cbea5f4a839050d10622e73d8d",
       "version_major": 2,
       "version_minor": 0
      },
      "text/plain": [
       "vocab.txt:   0%|          | 0.00/232k [00:00<?, ?B/s]"
      ]
     },
     "metadata": {},
     "output_type": "display_data"
    },
    {
     "data": {
      "application/vnd.jupyter.widget-view+json": {
       "model_id": "616797a1c0894d20b06c6f9c3505507f",
       "version_major": 2,
       "version_minor": 0
      },
      "text/plain": [
       "pytorch_model.bin:   0%|          | 0.00/17.8M [00:00<?, ?B/s]"
      ]
     },
     "metadata": {},
     "output_type": "display_data"
    },
    {
     "name": "stderr",
     "output_type": "stream",
     "text": [
      "Some weights of BertForSequenceClassification were not initialized from the model checkpoint at prajjwal1/bert-tiny and are newly initialized: ['classifier.bias', 'classifier.weight']\n",
      "You should probably TRAIN this model on a down-stream task to be able to use it for predictions and inference.\n",
      "/Users/jei/Library/jupyterlab-desktop/jlab_server/lib/python3.12/site-packages/transformers/optimization.py:591: FutureWarning: This implementation of AdamW is deprecated and will be removed in a future version. Use the PyTorch implementation torch.optim.AdamW instead, or set `no_deprecation_warning=True` to disable this warning\n",
      "  warnings.warn(\n",
      "We strongly recommend passing in an `attention_mask` since your input_ids may be padded. See https://huggingface.co/docs/transformers/troubleshooting#incorrect-output-when-padding-tokens-arent-masked.\n"
     ]
    }
   ],
   "source": [
    "import pandas as pd\n",
    "import torch\n",
    "from torch.utils.data import Dataset, DataLoader\n",
    "from transformers import AutoTokenizer, AutoModelForSequenceClassification, AdamW, pipeline\n",
    "\n",
    "# Load and preprocess data\n",
    "file_path = \"lyrics_combined.xlsx\"\n",
    "df = pd.read_excel(file_path, sheet_name=\"Sheet1\")\n",
    "lyrics = df[\"A\"].dropna()\n",
    "\n",
    "def clean_text(text):\n",
    "    import re\n",
    "    text = text.lower()\n",
    "    text = re.sub(r'[^a-z0-9\\s]', '', text)\n",
    "    return text\n",
    "\n",
    "lyrics = lyrics.apply(clean_text)\n",
    "\n",
    "with open(\"lyrics_dataset.txt\", \"w\") as f:\n",
    "    f.write('\\n'.join(lyrics))\n",
    "\n",
    "# Load TinyBERT tokenizer and model\n",
    "tokenizer = AutoTokenizer.from_pretrained(\"prajjwal1/bert-tiny\")\n",
    "model = AutoModelForSequenceClassification.from_pretrained(\"prajjwal1/bert-tiny\", num_labels=1)\n",
    "\n",
    "# Tokenize data\n",
    "def tokenize_text(file_path):\n",
    "    with open(file_path, \"r\") as f:\n",
    "        lines = f.readlines()\n",
    "    tokenized = [tokenizer(line, truncation=True, padding=\"max_length\", max_length=128)[\"input_ids\"] for line in lines]\n",
    "    return tokenized\n",
    "\n",
    "tokenized_data = tokenize_text(\"lyrics_dataset.txt\")\n",
    "\n",
    "class LyricsDataset(Dataset):\n",
    "    def __init__(self, tokenized_data):\n",
    "        self.data = tokenized_data\n",
    "\n",
    "    def __len__(self):\n",
    "        return len(self.data)\n",
    "\n",
    "    def __getitem__(self, idx):\n",
    "        return torch.tensor(self.data[idx])\n",
    "\n",
    "dataset = LyricsDataset(tokenized_data)\n",
    "dataloader = DataLoader(dataset, batch_size=8, shuffle=True)\n",
    "\n",
    "# Define optimizer\n",
    "optimizer = AdamW(model.parameters(), lr=5e-5)\n",
    "\n",
    "# Training loop\n",
    "device = torch.device(\"cuda\" if torch.cuda.is_available() else \"cpu\")\n",
    "model.to(device)\n",
    "\n",
    "for epoch in range(3):  # Number of epochs\n",
    "    for batch in dataloader:\n",
    "        batch = batch.to(device)\n",
    "        labels = torch.zeros(batch.size(0), dtype=torch.long).to(device)  # Example labels\n",
    "        outputs = model(batch, labels=labels)\n",
    "        loss = outputs.loss\n",
    "        loss.backward()\n",
    "        optimizer.step()\n",
    "        optimizer.zero_grad()\n",
    "        print(f\"Epoch {epoch}, Loss: {loss.item()}\")\n",
    "\n",
    "# Save the model and tokenizer\n",
    "model.save_pretrained(\"./fine_tuned_tinybert\")\n",
    "tokenizer.save_pretrained(\"./fine_tuned_tinybert\")\n",
    "\n",
    "# Example inference using TinyBERT\n",
    "text_classifier = pipeline(\"text-classification\", model=\"./fine_tuned_tinybert\", tokenizer=tokenizer)\n",
    "print(text_classifier(\"deez nutz\"))"
   ]
  },
  {
   "cell_type": "code",
   "execution_count": null,
   "id": "3d9f03fc-8a04-447d-a967-b53961b85617",
   "metadata": {},
   "outputs": [],
   "source": []
  }
 ],
 "metadata": {
  "kernelspec": {
   "display_name": "Python 3 (ipykernel)",
   "language": "python",
   "name": "python3"
  },
  "language_info": {
   "codemirror_mode": {
    "name": "ipython",
    "version": 3
   },
   "file_extension": ".py",
   "mimetype": "text/x-python",
   "name": "python",
   "nbconvert_exporter": "python",
   "pygments_lexer": "ipython3",
   "version": "3.12.2"
  }
 },
 "nbformat": 4,
 "nbformat_minor": 5
}
