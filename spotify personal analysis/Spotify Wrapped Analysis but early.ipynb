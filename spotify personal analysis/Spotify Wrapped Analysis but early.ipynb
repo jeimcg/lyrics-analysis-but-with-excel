{
 "cells": [
  {
   "cell_type": "markdown",
   "id": "7aec19c4-40ab-486d-935e-863214d7f090",
   "metadata": {},
   "source": [
    "## Spotify 'StreamingHistory0' data from June 27, 2023 - August 15, 2023"
   ]
  },
  {
   "cell_type": "code",
   "execution_count": 7,
   "id": "6df28f3f-a8e4-4558-827d-c80f385da968",
   "metadata": {},
   "outputs": [],
   "source": [
    "import pandas as pd # importing needed libraries/modules\n",
    "import numpy as np\n",
    "import matplotlib.pyplot as plt\n",
    "import seaborn as sns\n",
    "from datetime import date\n",
    "from IPython.display import Image\n",
    "import warnings ; warnings.warn = lambda *args,**kwargs: None"
   ]
  },
  {
   "cell_type": "code",
   "execution_count": 32,
   "id": "00a26882-dbb9-4ea0-a5e2-57322d5813ea",
   "metadata": {},
   "outputs": [
    {
     "data": {
      "text/html": [
       "<div>\n",
       "<style scoped>\n",
       "    .dataframe tbody tr th:only-of-type {\n",
       "        vertical-align: middle;\n",
       "    }\n",
       "\n",
       "    .dataframe tbody tr th {\n",
       "        vertical-align: top;\n",
       "    }\n",
       "\n",
       "    .dataframe thead th {\n",
       "        text-align: right;\n",
       "    }\n",
       "</style>\n",
       "<table border=\"1\" class=\"dataframe\">\n",
       "  <thead>\n",
       "    <tr style=\"text-align: right;\">\n",
       "      <th></th>\n",
       "      <th>endTime</th>\n",
       "      <th>date</th>\n",
       "      <th>wkday</th>\n",
       "      <th>time</th>\n",
       "      <th>artistName</th>\n",
       "      <th>trackName</th>\n",
       "      <th>msPlayed</th>\n",
       "      <th>minPlayed</th>\n",
       "      <th>Include Song</th>\n",
       "    </tr>\n",
       "  </thead>\n",
       "  <tbody>\n",
       "    <tr>\n",
       "      <th>0</th>\n",
       "      <td>2023-06-27 21:56</td>\n",
       "      <td>2023-06-27</td>\n",
       "      <td>Tue</td>\n",
       "      <td>21:56</td>\n",
       "      <td>Lil Peep</td>\n",
       "      <td>nuts</td>\n",
       "      <td>4387</td>\n",
       "      <td>0.073117</td>\n",
       "      <td>No</td>\n",
       "    </tr>\n",
       "    <tr>\n",
       "      <th>1</th>\n",
       "      <td>2023-06-28 01:44</td>\n",
       "      <td>2023-06-28</td>\n",
       "      <td>Wed</td>\n",
       "      <td>01:44</td>\n",
       "      <td>Lil Peep</td>\n",
       "      <td>nuts</td>\n",
       "      <td>80492</td>\n",
       "      <td>1.341533</td>\n",
       "      <td>No</td>\n",
       "    </tr>\n",
       "    <tr>\n",
       "      <th>2</th>\n",
       "      <td>2023-06-28 01:45</td>\n",
       "      <td>2023-06-28</td>\n",
       "      <td>Wed</td>\n",
       "      <td>01:45</td>\n",
       "      <td>XXXTENTACION</td>\n",
       "      <td>Guardian angel</td>\n",
       "      <td>108034</td>\n",
       "      <td>1.800567</td>\n",
       "      <td>No</td>\n",
       "    </tr>\n",
       "    <tr>\n",
       "      <th>3</th>\n",
       "      <td>2023-06-28 01:47</td>\n",
       "      <td>2023-06-28</td>\n",
       "      <td>Wed</td>\n",
       "      <td>01:47</td>\n",
       "      <td>The Wonder Years</td>\n",
       "      <td>Dismantling Summer</td>\n",
       "      <td>93973</td>\n",
       "      <td>1.566217</td>\n",
       "      <td>No</td>\n",
       "    </tr>\n",
       "    <tr>\n",
       "      <th>4</th>\n",
       "      <td>2023-06-28 01:47</td>\n",
       "      <td>2023-06-28</td>\n",
       "      <td>Wed</td>\n",
       "      <td>01:47</td>\n",
       "      <td>Sorority Noise</td>\n",
       "      <td>Windowwww</td>\n",
       "      <td>597</td>\n",
       "      <td>0.009950</td>\n",
       "      <td>No</td>\n",
       "    </tr>\n",
       "    <tr>\n",
       "      <th>...</th>\n",
       "      <td>...</td>\n",
       "      <td>...</td>\n",
       "      <td>...</td>\n",
       "      <td>...</td>\n",
       "      <td>...</td>\n",
       "      <td>...</td>\n",
       "      <td>...</td>\n",
       "      <td>...</td>\n",
       "      <td>...</td>\n",
       "    </tr>\n",
       "    <tr>\n",
       "      <th>9995</th>\n",
       "      <td>2023-08-15 17:39</td>\n",
       "      <td>2023-08-15</td>\n",
       "      <td>Tue</td>\n",
       "      <td>17:39</td>\n",
       "      <td>BROCKHAMPTON</td>\n",
       "      <td>1999 WILDFIRE</td>\n",
       "      <td>719</td>\n",
       "      <td>0.011983</td>\n",
       "      <td>No</td>\n",
       "    </tr>\n",
       "    <tr>\n",
       "      <th>9996</th>\n",
       "      <td>2023-08-15 17:39</td>\n",
       "      <td>2023-08-15</td>\n",
       "      <td>Tue</td>\n",
       "      <td>17:39</td>\n",
       "      <td>BROCKHAMPTON</td>\n",
       "      <td>1999 WILDFIRE</td>\n",
       "      <td>162</td>\n",
       "      <td>0.002700</td>\n",
       "      <td>No</td>\n",
       "    </tr>\n",
       "    <tr>\n",
       "      <th>9997</th>\n",
       "      <td>2023-08-15 17:39</td>\n",
       "      <td>2023-08-15</td>\n",
       "      <td>Tue</td>\n",
       "      <td>17:39</td>\n",
       "      <td>nascar aloe</td>\n",
       "      <td>FEET!</td>\n",
       "      <td>766</td>\n",
       "      <td>0.012767</td>\n",
       "      <td>No</td>\n",
       "    </tr>\n",
       "    <tr>\n",
       "      <th>9998</th>\n",
       "      <td>2023-08-15 17:39</td>\n",
       "      <td>2023-08-15</td>\n",
       "      <td>Tue</td>\n",
       "      <td>17:39</td>\n",
       "      <td>nascar aloe</td>\n",
       "      <td>FEET!</td>\n",
       "      <td>139</td>\n",
       "      <td>0.002317</td>\n",
       "      <td>No</td>\n",
       "    </tr>\n",
       "    <tr>\n",
       "      <th>9999</th>\n",
       "      <td>2023-08-15 17:39</td>\n",
       "      <td>2023-08-15</td>\n",
       "      <td>Tue</td>\n",
       "      <td>17:39</td>\n",
       "      <td>Charmer</td>\n",
       "      <td>Topanga Lawrence</td>\n",
       "      <td>580</td>\n",
       "      <td>0.009667</td>\n",
       "      <td>No</td>\n",
       "    </tr>\n",
       "  </tbody>\n",
       "</table>\n",
       "<p>10000 rows × 9 columns</p>\n",
       "</div>"
      ],
      "text/plain": [
       "               endTime        date wkday   time        artistName  \\\n",
       "0     2023-06-27 21:56  2023-06-27   Tue  21:56          Lil Peep   \n",
       "1     2023-06-28 01:44  2023-06-28   Wed  01:44          Lil Peep   \n",
       "2     2023-06-28 01:45  2023-06-28   Wed  01:45      XXXTENTACION   \n",
       "3     2023-06-28 01:47  2023-06-28   Wed  01:47  The Wonder Years   \n",
       "4     2023-06-28 01:47  2023-06-28   Wed  01:47    Sorority Noise   \n",
       "...                ...         ...   ...    ...               ...   \n",
       "9995  2023-08-15 17:39  2023-08-15   Tue  17:39      BROCKHAMPTON   \n",
       "9996  2023-08-15 17:39  2023-08-15   Tue  17:39      BROCKHAMPTON   \n",
       "9997  2023-08-15 17:39  2023-08-15   Tue  17:39       nascar aloe   \n",
       "9998  2023-08-15 17:39  2023-08-15   Tue  17:39       nascar aloe   \n",
       "9999  2023-08-15 17:39  2023-08-15   Tue  17:39           Charmer   \n",
       "\n",
       "               trackName  msPlayed  minPlayed Include Song  \n",
       "0                   nuts      4387   0.073117           No  \n",
       "1                   nuts     80492   1.341533           No  \n",
       "2         Guardian angel    108034   1.800567           No  \n",
       "3     Dismantling Summer     93973   1.566217           No  \n",
       "4              Windowwww       597   0.009950           No  \n",
       "...                  ...       ...        ...          ...  \n",
       "9995       1999 WILDFIRE       719   0.011983           No  \n",
       "9996       1999 WILDFIRE       162   0.002700           No  \n",
       "9997               FEET!       766   0.012767           No  \n",
       "9998               FEET!       139   0.002317           No  \n",
       "9999    Topanga Lawrence       580   0.009667           No  \n",
       "\n",
       "[10000 rows x 9 columns]"
      ]
     },
     "execution_count": 32,
     "metadata": {},
     "output_type": "execute_result"
    }
   ],
   "source": [
    "def load_data(file):\n",
    "    return pd.read_csv(file, sep = \",\", index_col = False, header=0)\n",
    "df = pd.read_excel('StreamingHistory_music_0.json.xlsx') #loading file into df\n",
    "df"
   ]
  },
  {
   "cell_type": "code",
   "execution_count": 33,
   "id": "5a369c1b-162c-400d-bd1b-168c200d6971",
   "metadata": {},
   "outputs": [
    {
     "data": {
      "text/html": [
       "<div>\n",
       "<style scoped>\n",
       "    .dataframe tbody tr th:only-of-type {\n",
       "        vertical-align: middle;\n",
       "    }\n",
       "\n",
       "    .dataframe tbody tr th {\n",
       "        vertical-align: top;\n",
       "    }\n",
       "\n",
       "    .dataframe thead th {\n",
       "        text-align: right;\n",
       "    }\n",
       "</style>\n",
       "<table border=\"1\" class=\"dataframe\">\n",
       "  <thead>\n",
       "    <tr style=\"text-align: right;\">\n",
       "      <th></th>\n",
       "      <th>endTime</th>\n",
       "      <th>date</th>\n",
       "      <th>wkday</th>\n",
       "      <th>time</th>\n",
       "      <th>artistName</th>\n",
       "      <th>trackName</th>\n",
       "      <th>msPlayed</th>\n",
       "      <th>minPlayed</th>\n",
       "      <th>Include Song</th>\n",
       "    </tr>\n",
       "  </thead>\n",
       "  <tbody>\n",
       "    <tr>\n",
       "      <th>45</th>\n",
       "      <td>2023-06-28 01:50</td>\n",
       "      <td>2023-06-28</td>\n",
       "      <td>Wed</td>\n",
       "      <td>01:50</td>\n",
       "      <td>YOU LOSE</td>\n",
       "      <td>No Rules</td>\n",
       "      <td>145853</td>\n",
       "      <td>2.430883</td>\n",
       "      <td>Yes</td>\n",
       "    </tr>\n",
       "    <tr>\n",
       "      <th>92</th>\n",
       "      <td>2023-06-28 02:15</td>\n",
       "      <td>2023-06-28</td>\n",
       "      <td>Wed</td>\n",
       "      <td>02:15</td>\n",
       "      <td>Michael Jackson</td>\n",
       "      <td>Rock with You - Single Version</td>\n",
       "      <td>215434</td>\n",
       "      <td>3.590567</td>\n",
       "      <td>Yes</td>\n",
       "    </tr>\n",
       "    <tr>\n",
       "      <th>142</th>\n",
       "      <td>2023-06-28 02:22</td>\n",
       "      <td>2023-06-28</td>\n",
       "      <td>Wed</td>\n",
       "      <td>02:22</td>\n",
       "      <td>Drake</td>\n",
       "      <td>Too Much</td>\n",
       "      <td>245527</td>\n",
       "      <td>4.092117</td>\n",
       "      <td>Yes</td>\n",
       "    </tr>\n",
       "    <tr>\n",
       "      <th>143</th>\n",
       "      <td>2023-06-28 02:26</td>\n",
       "      <td>2023-06-28</td>\n",
       "      <td>Wed</td>\n",
       "      <td>02:26</td>\n",
       "      <td>The Kid LAROI</td>\n",
       "      <td>NOT SOBER (feat. Polo G &amp; Stunna Gambino)</td>\n",
       "      <td>204483</td>\n",
       "      <td>3.408050</td>\n",
       "      <td>Yes</td>\n",
       "    </tr>\n",
       "    <tr>\n",
       "      <th>159</th>\n",
       "      <td>2023-06-28 02:34</td>\n",
       "      <td>2023-06-28</td>\n",
       "      <td>Wed</td>\n",
       "      <td>02:34</td>\n",
       "      <td>Frank Ocean</td>\n",
       "      <td>White Ferrari</td>\n",
       "      <td>248807</td>\n",
       "      <td>4.146783</td>\n",
       "      <td>Yes</td>\n",
       "    </tr>\n",
       "    <tr>\n",
       "      <th>...</th>\n",
       "      <td>...</td>\n",
       "      <td>...</td>\n",
       "      <td>...</td>\n",
       "      <td>...</td>\n",
       "      <td>...</td>\n",
       "      <td>...</td>\n",
       "      <td>...</td>\n",
       "      <td>...</td>\n",
       "      <td>...</td>\n",
       "    </tr>\n",
       "    <tr>\n",
       "      <th>9909</th>\n",
       "      <td>2023-08-15 17:19</td>\n",
       "      <td>2023-08-15</td>\n",
       "      <td>Tue</td>\n",
       "      <td>17:19</td>\n",
       "      <td>Lancey Foux</td>\n",
       "      <td>LANCEY OR LANCEY</td>\n",
       "      <td>122996</td>\n",
       "      <td>2.049933</td>\n",
       "      <td>Yes</td>\n",
       "    </tr>\n",
       "    <tr>\n",
       "      <th>9910</th>\n",
       "      <td>2023-08-15 17:24</td>\n",
       "      <td>2023-08-15</td>\n",
       "      <td>Tue</td>\n",
       "      <td>17:24</td>\n",
       "      <td>Flap Peacock</td>\n",
       "      <td>DiE!</td>\n",
       "      <td>291131</td>\n",
       "      <td>4.852183</td>\n",
       "      <td>Yes</td>\n",
       "    </tr>\n",
       "    <tr>\n",
       "      <th>9918</th>\n",
       "      <td>2023-08-15 17:28</td>\n",
       "      <td>2023-08-15</td>\n",
       "      <td>Tue</td>\n",
       "      <td>17:28</td>\n",
       "      <td>Rage Against The Machine</td>\n",
       "      <td>Bulls On Parade</td>\n",
       "      <td>214854</td>\n",
       "      <td>3.580900</td>\n",
       "      <td>Yes</td>\n",
       "    </tr>\n",
       "    <tr>\n",
       "      <th>9933</th>\n",
       "      <td>2023-08-15 17:31</td>\n",
       "      <td>2023-08-15</td>\n",
       "      <td>Tue</td>\n",
       "      <td>17:31</td>\n",
       "      <td>Elroy</td>\n",
       "      <td>TALKIN IN MY SLEEP</td>\n",
       "      <td>173847</td>\n",
       "      <td>2.897450</td>\n",
       "      <td>Yes</td>\n",
       "    </tr>\n",
       "    <tr>\n",
       "      <th>9953</th>\n",
       "      <td>2023-08-15 17:34</td>\n",
       "      <td>2023-08-15</td>\n",
       "      <td>Tue</td>\n",
       "      <td>17:34</td>\n",
       "      <td>SoFaygo</td>\n",
       "      <td>Matrix</td>\n",
       "      <td>149732</td>\n",
       "      <td>2.495533</td>\n",
       "      <td>Yes</td>\n",
       "    </tr>\n",
       "  </tbody>\n",
       "</table>\n",
       "<p>1669 rows × 9 columns</p>\n",
       "</div>"
      ],
      "text/plain": [
       "               endTime        date wkday   time                artistName  \\\n",
       "45    2023-06-28 01:50  2023-06-28   Wed  01:50                  YOU LOSE   \n",
       "92    2023-06-28 02:15  2023-06-28   Wed  02:15           Michael Jackson   \n",
       "142   2023-06-28 02:22  2023-06-28   Wed  02:22                     Drake   \n",
       "143   2023-06-28 02:26  2023-06-28   Wed  02:26             The Kid LAROI   \n",
       "159   2023-06-28 02:34  2023-06-28   Wed  02:34               Frank Ocean   \n",
       "...                ...         ...   ...    ...                       ...   \n",
       "9909  2023-08-15 17:19  2023-08-15   Tue  17:19               Lancey Foux   \n",
       "9910  2023-08-15 17:24  2023-08-15   Tue  17:24              Flap Peacock   \n",
       "9918  2023-08-15 17:28  2023-08-15   Tue  17:28  Rage Against The Machine   \n",
       "9933  2023-08-15 17:31  2023-08-15   Tue  17:31                     Elroy   \n",
       "9953  2023-08-15 17:34  2023-08-15   Tue  17:34                   SoFaygo   \n",
       "\n",
       "                                      trackName  msPlayed  minPlayed  \\\n",
       "45                                     No Rules    145853   2.430883   \n",
       "92               Rock with You - Single Version    215434   3.590567   \n",
       "142                                    Too Much    245527   4.092117   \n",
       "143   NOT SOBER (feat. Polo G & Stunna Gambino)    204483   3.408050   \n",
       "159                               White Ferrari    248807   4.146783   \n",
       "...                                         ...       ...        ...   \n",
       "9909                           LANCEY OR LANCEY    122996   2.049933   \n",
       "9910                                       DiE!    291131   4.852183   \n",
       "9918                            Bulls On Parade    214854   3.580900   \n",
       "9933                         TALKIN IN MY SLEEP    173847   2.897450   \n",
       "9953                                     Matrix    149732   2.495533   \n",
       "\n",
       "     Include Song  \n",
       "45            Yes  \n",
       "92            Yes  \n",
       "142           Yes  \n",
       "143           Yes  \n",
       "159           Yes  \n",
       "...           ...  \n",
       "9909          Yes  \n",
       "9910          Yes  \n",
       "9918          Yes  \n",
       "9933          Yes  \n",
       "9953          Yes  \n",
       "\n",
       "[1669 rows x 9 columns]"
      ]
     },
     "execution_count": 33,
     "metadata": {},
     "output_type": "execute_result"
    }
   ],
   "source": [
    "skippedsongs = df[ df['Include Song'] == 'No'].index # assigning variable to skipped songs, played for less than 2 mins\n",
    "df.drop(skippedsongs, inplace = True) # dropping skipped songs from df\n",
    "df"
   ]
  },
  {
   "cell_type": "code",
   "execution_count": 34,
   "id": "926be028-37ea-4256-8be9-fefa4d2c5403",
   "metadata": {},
   "outputs": [
    {
     "data": {
      "text/plain": [
       "endTime         1669\n",
       "date            1669\n",
       "wkday           1669\n",
       "time            1669\n",
       "artistName      1669\n",
       "trackName       1669\n",
       "msPlayed        1669\n",
       "minPlayed       1669\n",
       "Include Song    1669\n",
       "dtype: int64"
      ]
     },
     "execution_count": 34,
     "metadata": {},
     "output_type": "execute_result"
    }
   ],
   "source": [
    "df.count() # to see how many values are in each column; checking for null values (and getting rid of them!)"
   ]
  },
  {
   "cell_type": "code",
   "execution_count": 35,
   "id": "1cefad17-0e44-438c-a60d-2f735c5a1289",
   "metadata": {
    "jupyter": {
     "source_hidden": true
    }
   },
   "outputs": [
    {
     "data": {
      "text/plain": [
       "(1669, 9)"
      ]
     },
     "execution_count": 35,
     "metadata": {},
     "output_type": "execute_result"
    }
   ],
   "source": [
    "df.shape # (rows, columns)"
   ]
  },
  {
   "cell_type": "markdown",
   "id": "975cbb07-7310-4068-af63-6bd6261ec368",
   "metadata": {},
   "source": [
    "## Goal: What day of the week are songs streamed most?"
   ]
  },
  {
   "cell_type": "code",
   "execution_count": 36,
   "id": "1b2ae885-2cf9-4645-a109-2a84889f879f",
   "metadata": {},
   "outputs": [
    {
     "data": {
      "text/html": [
       "<div>\n",
       "<style scoped>\n",
       "    .dataframe tbody tr th:only-of-type {\n",
       "        vertical-align: middle;\n",
       "    }\n",
       "\n",
       "    .dataframe tbody tr th {\n",
       "        vertical-align: top;\n",
       "    }\n",
       "\n",
       "    .dataframe thead th {\n",
       "        text-align: right;\n",
       "    }\n",
       "</style>\n",
       "<table border=\"1\" class=\"dataframe\">\n",
       "  <thead>\n",
       "    <tr style=\"text-align: right;\">\n",
       "      <th></th>\n",
       "      <th>date</th>\n",
       "      <th>wkday</th>\n",
       "      <th>minPlayed</th>\n",
       "    </tr>\n",
       "  </thead>\n",
       "  <tbody>\n",
       "    <tr>\n",
       "      <th>45</th>\n",
       "      <td>2023-06-28</td>\n",
       "      <td>Wed</td>\n",
       "      <td>2.430883</td>\n",
       "    </tr>\n",
       "    <tr>\n",
       "      <th>92</th>\n",
       "      <td>2023-06-28</td>\n",
       "      <td>Wed</td>\n",
       "      <td>3.590567</td>\n",
       "    </tr>\n",
       "    <tr>\n",
       "      <th>142</th>\n",
       "      <td>2023-06-28</td>\n",
       "      <td>Wed</td>\n",
       "      <td>4.092117</td>\n",
       "    </tr>\n",
       "    <tr>\n",
       "      <th>143</th>\n",
       "      <td>2023-06-28</td>\n",
       "      <td>Wed</td>\n",
       "      <td>3.408050</td>\n",
       "    </tr>\n",
       "    <tr>\n",
       "      <th>159</th>\n",
       "      <td>2023-06-28</td>\n",
       "      <td>Wed</td>\n",
       "      <td>4.146783</td>\n",
       "    </tr>\n",
       "    <tr>\n",
       "      <th>...</th>\n",
       "      <td>...</td>\n",
       "      <td>...</td>\n",
       "      <td>...</td>\n",
       "    </tr>\n",
       "    <tr>\n",
       "      <th>9909</th>\n",
       "      <td>2023-08-15</td>\n",
       "      <td>Tue</td>\n",
       "      <td>2.049933</td>\n",
       "    </tr>\n",
       "    <tr>\n",
       "      <th>9910</th>\n",
       "      <td>2023-08-15</td>\n",
       "      <td>Tue</td>\n",
       "      <td>4.852183</td>\n",
       "    </tr>\n",
       "    <tr>\n",
       "      <th>9918</th>\n",
       "      <td>2023-08-15</td>\n",
       "      <td>Tue</td>\n",
       "      <td>3.580900</td>\n",
       "    </tr>\n",
       "    <tr>\n",
       "      <th>9933</th>\n",
       "      <td>2023-08-15</td>\n",
       "      <td>Tue</td>\n",
       "      <td>2.897450</td>\n",
       "    </tr>\n",
       "    <tr>\n",
       "      <th>9953</th>\n",
       "      <td>2023-08-15</td>\n",
       "      <td>Tue</td>\n",
       "      <td>2.495533</td>\n",
       "    </tr>\n",
       "  </tbody>\n",
       "</table>\n",
       "<p>1669 rows × 3 columns</p>\n",
       "</div>"
      ],
      "text/plain": [
       "            date wkday  minPlayed\n",
       "45    2023-06-28   Wed   2.430883\n",
       "92    2023-06-28   Wed   3.590567\n",
       "142   2023-06-28   Wed   4.092117\n",
       "143   2023-06-28   Wed   3.408050\n",
       "159   2023-06-28   Wed   4.146783\n",
       "...          ...   ...        ...\n",
       "9909  2023-08-15   Tue   2.049933\n",
       "9910  2023-08-15   Tue   4.852183\n",
       "9918  2023-08-15   Tue   3.580900\n",
       "9933  2023-08-15   Tue   2.897450\n",
       "9953  2023-08-15   Tue   2.495533\n",
       "\n",
       "[1669 rows x 3 columns]"
      ]
     },
     "execution_count": 36,
     "metadata": {},
     "output_type": "execute_result"
    }
   ],
   "source": [
    "df[['date','wkday','minPlayed']] # calling our columns from df"
   ]
  },
  {
   "cell_type": "code",
   "execution_count": 37,
   "id": "917563f6-55fb-49f1-83e5-a6c358c461cd",
   "metadata": {},
   "outputs": [],
   "source": [
    "day = ['Mon','Tue','Wed','Thu','Fri','Sat','Sun'] # assigning a variable to the week days to keep them in order for visuals"
   ]
  },
  {
   "cell_type": "code",
   "execution_count": 38,
   "id": "e52c9e25-f062-481b-b4e2-b9f5eabb38b1",
   "metadata": {},
   "outputs": [
    {
     "data": {
      "text/plain": [
       "wkday\n",
       "Mon     996.617000\n",
       "Tue     865.914783\n",
       "Wed     976.207800\n",
       "Thu     681.818817\n",
       "Fri     546.131517\n",
       "Sat     702.562133\n",
       "Sun    1055.290467\n",
       "Name: minPlayed, dtype: float64"
      ]
     },
     "execution_count": 38,
     "metadata": {},
     "output_type": "execute_result"
    }
   ],
   "source": [
    "mins=df.groupby('wkday')['minPlayed'].sum().reindex(day) # counting up minutes played each day of the week for the data period\n",
    "mins"
   ]
  },
  {
   "cell_type": "code",
   "execution_count": 11,
   "id": "b7adcbe7-399a-49d4-9be5-f7fcdde63b8a",
   "metadata": {
    "jupyter": {
     "source_hidden": true
    }
   },
   "outputs": [
    {
     "data": {
      "image/png": "[encoded data removed]",
      "text/plain": [
       "<Figure size 640x480 with 1 Axes>"
      ]
     },
     "metadata": {},
     "output_type": "display_data"
    }
   ],
   "source": [
    "# creating the graph to display minutes listened on each day\n",
    "min_day=df.groupby('wkday')['minPlayed'].sum().reindex(day)\n",
    "plt.plot(min_day, color='Green', marker='o', mfc='black', mec= 'k')\n",
    "#mfc = marker face color, mec = marker edge color\n",
    "plt.ylabel('Minutes Listened')\n",
    "plt.title('Total Minutes Listened per Day')\n",
    "plt.show()"
   ]
  },
  {
   "cell_type": "raw",
   "id": "999edf59-fd12-4ed0-ac69-c4e504981f68",
   "metadata": {},
   "source": [
    "Findings: During this time period, I listened to music the most on Wednesday and Sunday. With this newly presented information I came up with possible answers as to why. One, I always "
   ]
  },
  {
   "cell_type": "markdown",
   "id": "87bd375c-eeaa-4df6-963a-ab21cdf534d6",
   "metadata": {},
   "source": [
    "## Goal: Top 10 Streamed Songs"
   ]
  },
  {
   "cell_type": "code",
   "execution_count": 39,
   "id": "0c2fe54f-6d7a-434d-bf9c-0c1a914cdd4e",
   "metadata": {
    "jupyter": {
     "source_hidden": true
    }
   },
   "outputs": [
    {
     "data": {
      "text/plain": [
       "trackName\n",
       "SUNDOWN TOWN             51\n",
       "Unknown Track            43\n",
       "Escape From LA           25\n",
       "Animals                  23\n",
       "Sad People               23\n",
       "                         ..\n",
       "Look at the Sky           1\n",
       "Meme Graveyard            1\n",
       "Your Luv                  1\n",
       "Torque - Gammer Remix     1\n",
       "Судно (Борис Рижий)       1\n",
       "Name: count, Length: 909, dtype: int64"
      ]
     },
     "execution_count": 39,
     "metadata": {},
     "output_type": "execute_result"
    }
   ],
   "source": [
    "pd.value_counts(df['trackName']) # viewing number of times each track appears in data"
   ]
  },
  {
   "cell_type": "code",
   "execution_count": 40,
   "id": "c8201917-d79c-4da3-873c-212fec19f1e1",
   "metadata": {
    "jupyter": {
     "source_hidden": true
    }
   },
   "outputs": [
    {
     "data": {
      "text/plain": [
       "trackName\n",
       "SUNDOWN TOWN                     51\n",
       "Unknown Track                    43\n",
       "Escape From LA                   25\n",
       "Animals                          23\n",
       "Sad People                       23\n",
       "Stunt On Ghosts (feat. Mansa)    20\n",
       "MONEY POWER FAME                 19\n",
       "No Bap                           18\n",
       "War Ready                        17\n",
       "Carefree                         17\n",
       "Name: count, dtype: int64"
      ]
     },
     "execution_count": 40,
     "metadata": {},
     "output_type": "execute_result"
    }
   ],
   "source": [
    "pd.value_counts(df['trackName']).head(10) # displays first 10 tracks in the 'trackName' column"
   ]
  },
  {
   "cell_type": "code",
   "execution_count": 41,
   "id": "0f576ed1-d0a0-4d49-a560-35b673b3a527",
   "metadata": {
    "jupyter": {
     "source_hidden": true
    }
   },
   "outputs": [
    {
     "data": {
      "text/plain": [
       "Text(0.5, 0, 'Songs')"
      ]
     },
     "execution_count": 41,
     "metadata": {},
     "output_type": "execute_result"
    },
    {
     "data": {
      "image/png": "[encoded data removed]",
      "text/plain": [
       "<Figure size 640x480 with 1 Axes>"
      ]
     },
     "metadata": {},
     "output_type": "display_data"
    }
   ],
   "source": [
    "pd.value_counts(df['trackName']).head(10).plot(kind='bar' ,color='forestgreen')\n",
    "plt.xticks(rotation=45, ha='right')\n",
    "plt.title('Top Ten Streamed Songs')\n",
    "plt.ylabel('Count')\n",
    "plt.xlabel('Songs')"
   ]
  },
  {
   "cell_type": "code",
   "execution_count": null,
   "id": "f2a85cf3-1a69-4ef7-9273-848dd852a00b",
   "metadata": {
    "jupyter": {
     "source_hidden": true
    }
   },
   "outputs": [],
   "source": [
    "Findings: Maybe Spotify can start playing more tracks for me that sound like SUNDOWN TOWN by Vince Staples"
   ]
  },
  {
   "cell_type": "markdown",
   "id": "1edd24ba-053b-456d-a039-86f338e7c658",
   "metadata": {},
   "source": [
    "## Goal: Top 20 Streamed Artists"
   ]
  },
  {
   "cell_type": "code",
   "execution_count": 42,
   "id": "e0487492-c1a5-41ad-95ee-b0a81220334b",
   "metadata": {
    "jupyter": {
     "source_hidden": true
    }
   },
   "outputs": [
    {
     "data": {
      "text/plain": [
       "artistName\n",
       "Vince Staples        51\n",
       "Lil Darkie           46\n",
       "Unknown Artist       43\n",
       "Guapdad 4000         41\n",
       "Drake                35\n",
       "                     ..\n",
       "Waka Flocka Flame     1\n",
       "Portwave              1\n",
       "Mayday Parade         1\n",
       "Ameer Vann            1\n",
       "Huron John            1\n",
       "Name: count, Length: 414, dtype: int64"
      ]
     },
     "execution_count": 42,
     "metadata": {},
     "output_type": "execute_result"
    }
   ],
   "source": [
    "pd.value_counts(df['artistName']) # counting amount of times artist was streamed"
   ]
  },
  {
   "cell_type": "code",
   "execution_count": 43,
   "id": "414df6d2-cc81-426d-9da3-553d9ff9965a",
   "metadata": {
    "jupyter": {
     "source_hidden": true
    }
   },
   "outputs": [
    {
     "data": {
      "text/plain": [
       "artistName\n",
       "Vince Staples         51\n",
       "Lil Darkie            46\n",
       "Unknown Artist        43\n",
       "Guapdad 4000          41\n",
       "Drake                 35\n",
       "Kid Cudi              35\n",
       "Mac Miller            33\n",
       "The Weeknd            30\n",
       "LUCKI                 26\n",
       "Architects            25\n",
       "Autumn!               23\n",
       "Future                22\n",
       "Billie Eilish         21\n",
       "Tyler, The Creator    21\n",
       "Smino                 20\n",
       "Juice WRLD            20\n",
       "BROCKHAMPTON          20\n",
       "A Day To Remember     19\n",
       "Meek Mill             19\n",
       "Mick Jenkins          17\n",
       "Name: count, dtype: int64"
      ]
     },
     "execution_count": 43,
     "metadata": {},
     "output_type": "execute_result"
    }
   ],
   "source": [
    "pd.value_counts(df['artistName']).head(20) # printing the top 20 streamed artists"
   ]
  },
  {
   "cell_type": "code",
   "execution_count": 44,
   "id": "dfc8d819-a8aa-4076-b9e8-54def81b5427",
   "metadata": {
    "jupyter": {
     "source_hidden": true
    }
   },
   "outputs": [
    {
     "data": {
      "image/png": "[encoded data removed]",
      "text/plain": [
       "<Figure size 640x480 with 1 Axes>"
      ]
     },
     "metadata": {},
     "output_type": "display_data"
    }
   ],
   "source": [
    "pd.value_counts(df['artistName']).head(20).plot(kind='barh', color='forestgreen')\n",
    "plt.xticks(rotation=45, ha='right')\n",
    "plt.title('June 27, 2023 - August 15, 2023 | Top 20 | Streamed Artists')\n",
    "plt.ylabel('Artists')\n",
    "plt.xlabel('Count')\n",
    "figsize=(100,100)"
   ]
  },
  {
   "cell_type": "markdown",
   "id": "59d42683-3c92-4db4-84e0-9f73784445a8",
   "metadata": {},
   "source": [
    "## Goal: How many songs are on each playlist"
   ]
  },
  {
   "cell_type": "code",
   "execution_count": 19,
   "id": "01ecaded-5d80-4e88-a092-f8035e3fe62e",
   "metadata": {
    "jupyter": {
     "source_hidden": true
    }
   },
   "outputs": [
    {
     "data": {
      "text/html": [
       "<div>\n",
       "<style scoped>\n",
       "    .dataframe tbody tr th:only-of-type {\n",
       "        vertical-align: middle;\n",
       "    }\n",
       "\n",
       "    .dataframe tbody tr th {\n",
       "        vertical-align: top;\n",
       "    }\n",
       "\n",
       "    .dataframe thead th {\n",
       "        text-align: right;\n",
       "    }\n",
       "</style>\n",
       "<table border=\"1\" class=\"dataframe\">\n",
       "  <thead>\n",
       "    <tr style=\"text-align: right;\">\n",
       "      <th></th>\n",
       "      <th>playlists</th>\n",
       "      <th>name</th>\n",
       "      <th>lastModifiedDate</th>\n",
       "      <th>description</th>\n",
       "      <th>numberOfFollowers</th>\n",
       "      <th>items</th>\n",
       "      <th>track</th>\n",
       "      <th>trackName</th>\n",
       "      <th>artistName</th>\n",
       "      <th>albumName</th>\n",
       "      <th>trackUri</th>\n",
       "      <th>episode</th>\n",
       "      <th>episodeName</th>\n",
       "      <th>showName</th>\n",
       "      <th>episodeUri</th>\n",
       "      <th>audiobook</th>\n",
       "      <th>localTrack</th>\n",
       "      <th>uri</th>\n",
       "      <th>addedDate</th>\n",
       "    </tr>\n",
       "  </thead>\n",
       "  <tbody>\n",
       "    <tr>\n",
       "      <th>0</th>\n",
       "      <td>NaN</td>\n",
       "      <td>My Playlist #28</td>\n",
       "      <td>2024-06-10</td>\n",
       "      <td>NaN</td>\n",
       "      <td>0.0</td>\n",
       "      <td>NaN</td>\n",
       "      <td>NaN</td>\n",
       "      <td>NaN</td>\n",
       "      <td>NaN</td>\n",
       "      <td>NaN</td>\n",
       "      <td>NaN</td>\n",
       "      <td>NaN</td>\n",
       "      <td>NaN</td>\n",
       "      <td>NaN</td>\n",
       "      <td>NaN</td>\n",
       "      <td>NaN</td>\n",
       "      <td>NaN</td>\n",
       "      <td>NaN</td>\n",
       "      <td>NaN</td>\n",
       "    </tr>\n",
       "    <tr>\n",
       "      <th>1</th>\n",
       "      <td>NaN</td>\n",
       "      <td>for dad :)</td>\n",
       "      <td>2024-06-16</td>\n",
       "      <td>happy fathers days, here’s a few songs i think...</td>\n",
       "      <td>0.0</td>\n",
       "      <td>NaN</td>\n",
       "      <td>NaN</td>\n",
       "      <td>Suede</td>\n",
       "      <td>NxWorries</td>\n",
       "      <td>Yes Lawd!</td>\n",
       "      <td>spotify:track:0iizrCBnUUJuAwCPJaWWY0</td>\n",
       "      <td>NaN</td>\n",
       "      <td>NaN</td>\n",
       "      <td>NaN</td>\n",
       "      <td>NaN</td>\n",
       "      <td>NaN</td>\n",
       "      <td>NaN</td>\n",
       "      <td>NaN</td>\n",
       "      <td>2024-05-17</td>\n",
       "    </tr>\n",
       "    <tr>\n",
       "      <th>2</th>\n",
       "      <td>NaN</td>\n",
       "      <td>NaN</td>\n",
       "      <td>NaN</td>\n",
       "      <td>NaN</td>\n",
       "      <td>NaN</td>\n",
       "      <td>NaN</td>\n",
       "      <td>NaN</td>\n",
       "      <td>Late Night (feat. Masego)</td>\n",
       "      <td>GoldLink</td>\n",
       "      <td>And After That, We Didn't Talk</td>\n",
       "      <td>spotify:track:60ZZNXIdwgUGkVGRt7foLT</td>\n",
       "      <td>NaN</td>\n",
       "      <td>NaN</td>\n",
       "      <td>NaN</td>\n",
       "      <td>NaN</td>\n",
       "      <td>NaN</td>\n",
       "      <td>NaN</td>\n",
       "      <td>NaN</td>\n",
       "      <td>2024-06-11</td>\n",
       "    </tr>\n",
       "    <tr>\n",
       "      <th>3</th>\n",
       "      <td>NaN</td>\n",
       "      <td>NaN</td>\n",
       "      <td>NaN</td>\n",
       "      <td>NaN</td>\n",
       "      <td>NaN</td>\n",
       "      <td>NaN</td>\n",
       "      <td>NaN</td>\n",
       "      <td>Let Me Know</td>\n",
       "      <td>Brent Faiyaz</td>\n",
       "      <td>Fuck The World</td>\n",
       "      <td>spotify:track:0dJhXJKZTpiaxTUc7uItIN</td>\n",
       "      <td>NaN</td>\n",
       "      <td>NaN</td>\n",
       "      <td>NaN</td>\n",
       "      <td>NaN</td>\n",
       "      <td>NaN</td>\n",
       "      <td>NaN</td>\n",
       "      <td>NaN</td>\n",
       "      <td>2024-06-12</td>\n",
       "    </tr>\n",
       "    <tr>\n",
       "      <th>4</th>\n",
       "      <td>NaN</td>\n",
       "      <td>NaN</td>\n",
       "      <td>NaN</td>\n",
       "      <td>NaN</td>\n",
       "      <td>NaN</td>\n",
       "      <td>NaN</td>\n",
       "      <td>NaN</td>\n",
       "      <td>Good Morning Love [Feat. Samora Pinderhughes]</td>\n",
       "      <td>Common</td>\n",
       "      <td>Let Love</td>\n",
       "      <td>spotify:track:4bePotuNPRFTpAJB4udtDs</td>\n",
       "      <td>NaN</td>\n",
       "      <td>NaN</td>\n",
       "      <td>NaN</td>\n",
       "      <td>NaN</td>\n",
       "      <td>NaN</td>\n",
       "      <td>NaN</td>\n",
       "      <td>NaN</td>\n",
       "      <td>2024-06-12</td>\n",
       "    </tr>\n",
       "    <tr>\n",
       "      <th>...</th>\n",
       "      <td>...</td>\n",
       "      <td>...</td>\n",
       "      <td>...</td>\n",
       "      <td>...</td>\n",
       "      <td>...</td>\n",
       "      <td>...</td>\n",
       "      <td>...</td>\n",
       "      <td>...</td>\n",
       "      <td>...</td>\n",
       "      <td>...</td>\n",
       "      <td>...</td>\n",
       "      <td>...</td>\n",
       "      <td>...</td>\n",
       "      <td>...</td>\n",
       "      <td>...</td>\n",
       "      <td>...</td>\n",
       "      <td>...</td>\n",
       "      <td>...</td>\n",
       "      <td>...</td>\n",
       "    </tr>\n",
       "    <tr>\n",
       "      <th>2798</th>\n",
       "      <td>NaN</td>\n",
       "      <td>NaN</td>\n",
       "      <td>NaN</td>\n",
       "      <td>NaN</td>\n",
       "      <td>NaN</td>\n",
       "      <td>NaN</td>\n",
       "      <td>NaN</td>\n",
       "      <td>Gotham City</td>\n",
       "      <td>Bladee</td>\n",
       "      <td>Gotham City</td>\n",
       "      <td>spotify:track:2whKOvkZ8mNLbinpYsKt3X</td>\n",
       "      <td>NaN</td>\n",
       "      <td>NaN</td>\n",
       "      <td>NaN</td>\n",
       "      <td>NaN</td>\n",
       "      <td>NaN</td>\n",
       "      <td>NaN</td>\n",
       "      <td>NaN</td>\n",
       "      <td>2021-03-10</td>\n",
       "    </tr>\n",
       "    <tr>\n",
       "      <th>2799</th>\n",
       "      <td>NaN</td>\n",
       "      <td>NaN</td>\n",
       "      <td>NaN</td>\n",
       "      <td>NaN</td>\n",
       "      <td>NaN</td>\n",
       "      <td>NaN</td>\n",
       "      <td>NaN</td>\n",
       "      <td>Sesame Street</td>\n",
       "      <td>Bladee</td>\n",
       "      <td>Sesame Street</td>\n",
       "      <td>spotify:track:3cn9YWXth1SkiyuIsPNJl6</td>\n",
       "      <td>NaN</td>\n",
       "      <td>NaN</td>\n",
       "      <td>NaN</td>\n",
       "      <td>NaN</td>\n",
       "      <td>NaN</td>\n",
       "      <td>NaN</td>\n",
       "      <td>NaN</td>\n",
       "      <td>2021-03-10</td>\n",
       "    </tr>\n",
       "    <tr>\n",
       "      <th>2800</th>\n",
       "      <td>NaN</td>\n",
       "      <td>NaN</td>\n",
       "      <td>NaN</td>\n",
       "      <td>NaN</td>\n",
       "      <td>NaN</td>\n",
       "      <td>NaN</td>\n",
       "      <td>NaN</td>\n",
       "      <td>Trial</td>\n",
       "      <td>Bladee</td>\n",
       "      <td>Exile</td>\n",
       "      <td>spotify:track:6SVOZ3zEbwK2JXVMDWYFQp</td>\n",
       "      <td>NaN</td>\n",
       "      <td>NaN</td>\n",
       "      <td>NaN</td>\n",
       "      <td>NaN</td>\n",
       "      <td>NaN</td>\n",
       "      <td>NaN</td>\n",
       "      <td>NaN</td>\n",
       "      <td>2021-03-10</td>\n",
       "    </tr>\n",
       "    <tr>\n",
       "      <th>2801</th>\n",
       "      <td>NaN</td>\n",
       "      <td>NaN</td>\n",
       "      <td>NaN</td>\n",
       "      <td>NaN</td>\n",
       "      <td>NaN</td>\n",
       "      <td>NaN</td>\n",
       "      <td>NaN</td>\n",
       "      <td>Sentence</td>\n",
       "      <td>Bladee</td>\n",
       "      <td>Exile</td>\n",
       "      <td>spotify:track:2MziEjp3gaYz7HlSs16zf7</td>\n",
       "      <td>NaN</td>\n",
       "      <td>NaN</td>\n",
       "      <td>NaN</td>\n",
       "      <td>NaN</td>\n",
       "      <td>NaN</td>\n",
       "      <td>NaN</td>\n",
       "      <td>NaN</td>\n",
       "      <td>2021-03-10</td>\n",
       "    </tr>\n",
       "    <tr>\n",
       "      <th>2802</th>\n",
       "      <td>NaN</td>\n",
       "      <td>NaN</td>\n",
       "      <td>NaN</td>\n",
       "      <td>NaN</td>\n",
       "      <td>NaN</td>\n",
       "      <td>NaN</td>\n",
       "      <td>NaN</td>\n",
       "      <td>For You</td>\n",
       "      <td>Bladee</td>\n",
       "      <td>Red Light</td>\n",
       "      <td>spotify:track:0OmodtcuWqN9TfSDbPfQ1L</td>\n",
       "      <td>NaN</td>\n",
       "      <td>NaN</td>\n",
       "      <td>NaN</td>\n",
       "      <td>NaN</td>\n",
       "      <td>NaN</td>\n",
       "      <td>NaN</td>\n",
       "      <td>NaN</td>\n",
       "      <td>2021-05-11</td>\n",
       "    </tr>\n",
       "  </tbody>\n",
       "</table>\n",
       "<p>2803 rows × 19 columns</p>\n",
       "</div>"
      ],
      "text/plain": [
       "      playlists             name lastModifiedDate  \\\n",
       "0           NaN  My Playlist #28       2024-06-10   \n",
       "1           NaN       for dad :)       2024-06-16   \n",
       "2           NaN              NaN              NaN   \n",
       "3           NaN              NaN              NaN   \n",
       "4           NaN              NaN              NaN   \n",
       "...         ...              ...              ...   \n",
       "2798        NaN              NaN              NaN   \n",
       "2799        NaN              NaN              NaN   \n",
       "2800        NaN              NaN              NaN   \n",
       "2801        NaN              NaN              NaN   \n",
       "2802        NaN              NaN              NaN   \n",
       "\n",
       "                                            description  numberOfFollowers  \\\n",
       "0                                                   NaN                0.0   \n",
       "1     happy fathers days, here’s a few songs i think...                0.0   \n",
       "2                                                   NaN                NaN   \n",
       "3                                                   NaN                NaN   \n",
       "4                                                   NaN                NaN   \n",
       "...                                                 ...                ...   \n",
       "2798                                                NaN                NaN   \n",
       "2799                                                NaN                NaN   \n",
       "2800                                                NaN                NaN   \n",
       "2801                                                NaN                NaN   \n",
       "2802                                                NaN                NaN   \n",
       "\n",
       "      items  track                                      trackName  \\\n",
       "0       NaN    NaN                                            NaN   \n",
       "1       NaN    NaN                                          Suede   \n",
       "2       NaN    NaN                      Late Night (feat. Masego)   \n",
       "3       NaN    NaN                                    Let Me Know   \n",
       "4       NaN    NaN  Good Morning Love [Feat. Samora Pinderhughes]   \n",
       "...     ...    ...                                            ...   \n",
       "2798    NaN    NaN                                    Gotham City   \n",
       "2799    NaN    NaN                                  Sesame Street   \n",
       "2800    NaN    NaN                                          Trial   \n",
       "2801    NaN    NaN                                       Sentence   \n",
       "2802    NaN    NaN                                        For You   \n",
       "\n",
       "        artistName                       albumName  \\\n",
       "0              NaN                             NaN   \n",
       "1        NxWorries                       Yes Lawd!   \n",
       "2         GoldLink  And After That, We Didn't Talk   \n",
       "3     Brent Faiyaz                  Fuck The World   \n",
       "4           Common                        Let Love   \n",
       "...            ...                             ...   \n",
       "2798        Bladee                     Gotham City   \n",
       "2799        Bladee                   Sesame Street   \n",
       "2800        Bladee                           Exile   \n",
       "2801        Bladee                           Exile   \n",
       "2802        Bladee                       Red Light   \n",
       "\n",
       "                                  trackUri  episode episodeName showName  \\\n",
       "0                                      NaN      NaN         NaN      NaN   \n",
       "1     spotify:track:0iizrCBnUUJuAwCPJaWWY0      NaN         NaN      NaN   \n",
       "2     spotify:track:60ZZNXIdwgUGkVGRt7foLT      NaN         NaN      NaN   \n",
       "3     spotify:track:0dJhXJKZTpiaxTUc7uItIN      NaN         NaN      NaN   \n",
       "4     spotify:track:4bePotuNPRFTpAJB4udtDs      NaN         NaN      NaN   \n",
       "...                                    ...      ...         ...      ...   \n",
       "2798  spotify:track:2whKOvkZ8mNLbinpYsKt3X      NaN         NaN      NaN   \n",
       "2799  spotify:track:3cn9YWXth1SkiyuIsPNJl6      NaN         NaN      NaN   \n",
       "2800  spotify:track:6SVOZ3zEbwK2JXVMDWYFQp      NaN         NaN      NaN   \n",
       "2801  spotify:track:2MziEjp3gaYz7HlSs16zf7      NaN         NaN      NaN   \n",
       "2802  spotify:track:0OmodtcuWqN9TfSDbPfQ1L      NaN         NaN      NaN   \n",
       "\n",
       "     episodeUri  audiobook  localTrack  uri   addedDate  \n",
       "0           NaN        NaN         NaN  NaN         NaN  \n",
       "1           NaN        NaN         NaN  NaN  2024-05-17  \n",
       "2           NaN        NaN         NaN  NaN  2024-06-11  \n",
       "3           NaN        NaN         NaN  NaN  2024-06-12  \n",
       "4           NaN        NaN         NaN  NaN  2024-06-12  \n",
       "...         ...        ...         ...  ...         ...  \n",
       "2798        NaN        NaN         NaN  NaN  2021-03-10  \n",
       "2799        NaN        NaN         NaN  NaN  2021-03-10  \n",
       "2800        NaN        NaN         NaN  NaN  2021-03-10  \n",
       "2801        NaN        NaN         NaN  NaN  2021-03-10  \n",
       "2802        NaN        NaN         NaN  NaN  2021-05-11  \n",
       "\n",
       "[2803 rows x 19 columns]"
      ]
     },
     "execution_count": 19,
     "metadata": {},
     "output_type": "execute_result"
    }
   ],
   "source": [
    "def load_data(file):\n",
    "    return pd.read_csv(file, sep = \",\", index_col = False, header=0)\n",
    "playlists = pd.read_excel('Playlist1.json.xlsx') #loading file into df\n",
    "playlists"
   ]
  },
  {
   "cell_type": "code",
   "execution_count": 20,
   "id": "45bbd200-0683-4c45-9e34-9ba17578380f",
   "metadata": {
    "jupyter": {
     "source_hidden": true
    }
   },
   "outputs": [
    {
     "data": {
      "text/plain": [
       "playlists               0\n",
       "name                   28\n",
       "lastModifiedDate       28\n",
       "description            14\n",
       "numberOfFollowers      28\n",
       "items                   0\n",
       "track                   0\n",
       "trackName            2647\n",
       "artistName           2647\n",
       "albumName            2647\n",
       "trackUri             2647\n",
       "episode                 0\n",
       "episodeName             1\n",
       "showName                1\n",
       "episodeUri              1\n",
       "audiobook               0\n",
       "localTrack              0\n",
       "uri                   152\n",
       "addedDate            2800\n",
       "dtype: int64"
      ]
     },
     "execution_count": 20,
     "metadata": {},
     "output_type": "execute_result"
    }
   ],
   "source": [
    "playlists.count() # count of values in each columns of the dataset"
   ]
  },
  {
   "cell_type": "code",
   "execution_count": 21,
   "id": "8d81ece6-c462-454d-b3cc-348c544ba7d2",
   "metadata": {
    "jupyter": {
     "source_hidden": true
    }
   },
   "outputs": [
    {
     "data": {
      "text/plain": [
       "name                  28\n",
       "lastModifiedDate      28\n",
       "description           14\n",
       "trackName           2647\n",
       "artistName          2647\n",
       "albumName           2647\n",
       "episodeName            1\n",
       "showName               1\n",
       "episodeUri             1\n",
       "uri                  152\n",
       "addedDate           2800\n",
       "dtype: int64"
      ]
     },
     "execution_count": 21,
     "metadata": {},
     "output_type": "execute_result"
    }
   ],
   "source": [
    "playlists=playlists.drop(['playlists','items','track','episode','audiobook','localTrack','numberOfFollowers','trackUri'], axis = 1) \n",
    "playlists.count()#cleaning the data by removing columns that do not help with the goal"
   ]
  },
  {
   "cell_type": "code",
   "execution_count": 22,
   "id": "7eb4d7ea-695c-49e5-a356-4353430189ea",
   "metadata": {
    "jupyter": {
     "source_hidden": true
    }
   },
   "outputs": [
    {
     "data": {
      "text/plain": [
       "name                  28\n",
       "lastModifiedDate      28\n",
       "description           14\n",
       "trackName           2647\n",
       "artistName          2647\n",
       "albumName           2647\n",
       "episodeName            1\n",
       "showName               1\n",
       "episodeUri             1\n",
       "uri                  152\n",
       "addedDate           2800\n",
       "dtype: int64"
      ]
     },
     "execution_count": 22,
     "metadata": {},
     "output_type": "execute_result"
    }
   ],
   "source": [
    "playlists.count()"
   ]
  },
  {
   "cell_type": "code",
   "execution_count": 23,
   "id": "d6cb3748-81c9-44f8-a154-c80a655206e5",
   "metadata": {
    "jupyter": {
     "source_hidden": true
    }
   },
   "outputs": [],
   "source": [
    "playlists=playlists.drop(['description', 'episodeName', 'showName', 'episodeUri'], axis = 1) #dropping unneedee columns"
   ]
  },
  {
   "cell_type": "code",
   "execution_count": 24,
   "id": "cd78fd3e-6117-411d-b191-1082bd273bcd",
   "metadata": {
    "jupyter": {
     "source_hidden": true
    }
   },
   "outputs": [
    {
     "data": {
      "text/plain": [
       "name                  28\n",
       "lastModifiedDate      28\n",
       "trackName           2647\n",
       "artistName          2647\n",
       "albumName           2647\n",
       "uri                  152\n",
       "addedDate           2800\n",
       "dtype: int64"
      ]
     },
     "execution_count": 24,
     "metadata": {},
     "output_type": "execute_result"
    }
   ],
   "source": [
    "playlists.count()"
   ]
  },
  {
   "cell_type": "code",
   "execution_count": 46,
   "id": "4c6663b7-7ae4-4b5e-98ea-1ae9ae63532e",
   "metadata": {
    "jupyter": {
     "source_hidden": true
    }
   },
   "outputs": [],
   "source": [
    "playlists=playlists.drop(['uri', 'addedDate'], axis = 1) # more dropping lol"
   ]
  },
  {
   "cell_type": "code",
   "execution_count": 47,
   "id": "3f7b3f84-d68b-444e-af80-8c0c272505ac",
   "metadata": {
    "jupyter": {
     "source_hidden": true
    }
   },
   "outputs": [
    {
     "data": {
      "text/plain": [
       "name                  28\n",
       "lastModifiedDate      28\n",
       "trackName           2647\n",
       "artistName          2647\n",
       "albumName           2647\n",
       "dtype: int64"
      ]
     },
     "execution_count": 47,
     "metadata": {},
     "output_type": "execute_result"
    }
   ],
   "source": [
    "playlists.count()"
   ]
  },
  {
   "cell_type": "code",
   "execution_count": 48,
   "id": "28ce546f-7fa0-409d-99cb-d016d7f6e205",
   "metadata": {
    "jupyter": {
     "source_hidden": true
    }
   },
   "outputs": [
    {
     "data": {
      "text/html": [
       "<div>\n",
       "<style scoped>\n",
       "    .dataframe tbody tr th:only-of-type {\n",
       "        vertical-align: middle;\n",
       "    }\n",
       "\n",
       "    .dataframe tbody tr th {\n",
       "        vertical-align: top;\n",
       "    }\n",
       "\n",
       "    .dataframe thead th {\n",
       "        text-align: right;\n",
       "    }\n",
       "</style>\n",
       "<table border=\"1\" class=\"dataframe\">\n",
       "  <thead>\n",
       "    <tr style=\"text-align: right;\">\n",
       "      <th></th>\n",
       "      <th>name</th>\n",
       "      <th>lastModifiedDate</th>\n",
       "      <th>trackName</th>\n",
       "      <th>artistName</th>\n",
       "      <th>albumName</th>\n",
       "    </tr>\n",
       "  </thead>\n",
       "  <tbody>\n",
       "    <tr>\n",
       "      <th>0</th>\n",
       "      <td>My Playlist #28</td>\n",
       "      <td>2024-06-10</td>\n",
       "      <td>NaN</td>\n",
       "      <td>NaN</td>\n",
       "      <td>NaN</td>\n",
       "    </tr>\n",
       "    <tr>\n",
       "      <th>1</th>\n",
       "      <td>for dad :)</td>\n",
       "      <td>2024-06-16</td>\n",
       "      <td>Suede</td>\n",
       "      <td>NxWorries</td>\n",
       "      <td>Yes Lawd!</td>\n",
       "    </tr>\n",
       "    <tr>\n",
       "      <th>2</th>\n",
       "      <td>NaN</td>\n",
       "      <td>NaN</td>\n",
       "      <td>Late Night (feat. Masego)</td>\n",
       "      <td>GoldLink</td>\n",
       "      <td>And After That, We Didn't Talk</td>\n",
       "    </tr>\n",
       "    <tr>\n",
       "      <th>3</th>\n",
       "      <td>NaN</td>\n",
       "      <td>NaN</td>\n",
       "      <td>Let Me Know</td>\n",
       "      <td>Brent Faiyaz</td>\n",
       "      <td>Fuck The World</td>\n",
       "    </tr>\n",
       "    <tr>\n",
       "      <th>4</th>\n",
       "      <td>NaN</td>\n",
       "      <td>NaN</td>\n",
       "      <td>Good Morning Love [Feat. Samora Pinderhughes]</td>\n",
       "      <td>Common</td>\n",
       "      <td>Let Love</td>\n",
       "    </tr>\n",
       "    <tr>\n",
       "      <th>...</th>\n",
       "      <td>...</td>\n",
       "      <td>...</td>\n",
       "      <td>...</td>\n",
       "      <td>...</td>\n",
       "      <td>...</td>\n",
       "    </tr>\n",
       "    <tr>\n",
       "      <th>2798</th>\n",
       "      <td>NaN</td>\n",
       "      <td>NaN</td>\n",
       "      <td>Gotham City</td>\n",
       "      <td>Bladee</td>\n",
       "      <td>Gotham City</td>\n",
       "    </tr>\n",
       "    <tr>\n",
       "      <th>2799</th>\n",
       "      <td>NaN</td>\n",
       "      <td>NaN</td>\n",
       "      <td>Sesame Street</td>\n",
       "      <td>Bladee</td>\n",
       "      <td>Sesame Street</td>\n",
       "    </tr>\n",
       "    <tr>\n",
       "      <th>2800</th>\n",
       "      <td>NaN</td>\n",
       "      <td>NaN</td>\n",
       "      <td>Trial</td>\n",
       "      <td>Bladee</td>\n",
       "      <td>Exile</td>\n",
       "    </tr>\n",
       "    <tr>\n",
       "      <th>2801</th>\n",
       "      <td>NaN</td>\n",
       "      <td>NaN</td>\n",
       "      <td>Sentence</td>\n",
       "      <td>Bladee</td>\n",
       "      <td>Exile</td>\n",
       "    </tr>\n",
       "    <tr>\n",
       "      <th>2802</th>\n",
       "      <td>NaN</td>\n",
       "      <td>NaN</td>\n",
       "      <td>For You</td>\n",
       "      <td>Bladee</td>\n",
       "      <td>Red Light</td>\n",
       "    </tr>\n",
       "  </tbody>\n",
       "</table>\n",
       "<p>2803 rows × 5 columns</p>\n",
       "</div>"
      ],
      "text/plain": [
       "                 name lastModifiedDate  \\\n",
       "0     My Playlist #28       2024-06-10   \n",
       "1          for dad :)       2024-06-16   \n",
       "2                 NaN              NaN   \n",
       "3                 NaN              NaN   \n",
       "4                 NaN              NaN   \n",
       "...               ...              ...   \n",
       "2798              NaN              NaN   \n",
       "2799              NaN              NaN   \n",
       "2800              NaN              NaN   \n",
       "2801              NaN              NaN   \n",
       "2802              NaN              NaN   \n",
       "\n",
       "                                          trackName    artistName  \\\n",
       "0                                               NaN           NaN   \n",
       "1                                             Suede     NxWorries   \n",
       "2                         Late Night (feat. Masego)      GoldLink   \n",
       "3                                       Let Me Know  Brent Faiyaz   \n",
       "4     Good Morning Love [Feat. Samora Pinderhughes]        Common   \n",
       "...                                             ...           ...   \n",
       "2798                                    Gotham City        Bladee   \n",
       "2799                                  Sesame Street        Bladee   \n",
       "2800                                          Trial        Bladee   \n",
       "2801                                       Sentence        Bladee   \n",
       "2802                                        For You        Bladee   \n",
       "\n",
       "                           albumName  \n",
       "0                                NaN  \n",
       "1                          Yes Lawd!  \n",
       "2     And After That, We Didn't Talk  \n",
       "3                     Fuck The World  \n",
       "4                           Let Love  \n",
       "...                              ...  \n",
       "2798                     Gotham City  \n",
       "2799                   Sesame Street  \n",
       "2800                           Exile  \n",
       "2801                           Exile  \n",
       "2802                       Red Light  \n",
       "\n",
       "[2803 rows x 5 columns]"
      ]
     },
     "execution_count": 48,
     "metadata": {},
     "output_type": "execute_result"
    }
   ],
   "source": [
    "playlists # pulling up df NOW with dropped columns"
   ]
  },
  {
   "cell_type": "code",
   "execution_count": 49,
   "id": "c12c68af-d66d-427f-ac0e-061c1af81c5d",
   "metadata": {
    "jupyter": {
     "source_hidden": true
    }
   },
   "outputs": [
    {
     "data": {
      "text/plain": [
       "0         My Playlist #28\n",
       "1              for dad :)\n",
       "2              for dad :)\n",
       "3              for dad :)\n",
       "4              for dad :)\n",
       "              ...        \n",
       "2798    𝘤𝘳𝘶𝘪𝘴𝘪𝘯𝘨 𝘪𝘯 𝘬𝘺𝘰𝘵𝘰\n",
       "2799    𝘤𝘳𝘶𝘪𝘴𝘪𝘯𝘨 𝘪𝘯 𝘬𝘺𝘰𝘵𝘰\n",
       "2800    𝘤𝘳𝘶𝘪𝘴𝘪𝘯𝘨 𝘪𝘯 𝘬𝘺𝘰𝘵𝘰\n",
       "2801    𝘤𝘳𝘶𝘪𝘴𝘪𝘯𝘨 𝘪𝘯 𝘬𝘺𝘰𝘵𝘰\n",
       "2802    𝘤𝘳𝘶𝘪𝘴𝘪𝘯𝘨 𝘪𝘯 𝘬𝘺𝘰𝘵𝘰\n",
       "Name: name, Length: 2803, dtype: object"
      ]
     },
     "execution_count": 49,
     "metadata": {},
     "output_type": "execute_result"
    }
   ],
   "source": [
    "# filling in the null(NaN) values with the playlists name until the next one shows up so we can count the number of songs per playlist\n",
    "playlists['name'] = playlists.name.replace(r'^\\s*$', np.nan, regex=True).ffill()\n",
    "playlists['name']"
   ]
  },
  {
   "cell_type": "code",
   "execution_count": 50,
   "id": "6b115026-f4b0-4d2f-8dd6-54143a9933cb",
   "metadata": {
    "jupyter": {
     "source_hidden": true
    }
   },
   "outputs": [
    {
     "data": {
      "text/html": [
       "<div>\n",
       "<style scoped>\n",
       "    .dataframe tbody tr th:only-of-type {\n",
       "        vertical-align: middle;\n",
       "    }\n",
       "\n",
       "    .dataframe tbody tr th {\n",
       "        vertical-align: top;\n",
       "    }\n",
       "\n",
       "    .dataframe thead th {\n",
       "        text-align: right;\n",
       "    }\n",
       "</style>\n",
       "<table border=\"1\" class=\"dataframe\">\n",
       "  <thead>\n",
       "    <tr style=\"text-align: right;\">\n",
       "      <th></th>\n",
       "      <th>name</th>\n",
       "      <th>lastModifiedDate</th>\n",
       "      <th>trackName</th>\n",
       "      <th>artistName</th>\n",
       "      <th>albumName</th>\n",
       "    </tr>\n",
       "  </thead>\n",
       "  <tbody>\n",
       "    <tr>\n",
       "      <th>0</th>\n",
       "      <td>My Playlist #28</td>\n",
       "      <td>2024-06-10</td>\n",
       "      <td>NaN</td>\n",
       "      <td>NaN</td>\n",
       "      <td>NaN</td>\n",
       "    </tr>\n",
       "    <tr>\n",
       "      <th>1</th>\n",
       "      <td>for dad :)</td>\n",
       "      <td>2024-06-16</td>\n",
       "      <td>Suede</td>\n",
       "      <td>NxWorries</td>\n",
       "      <td>Yes Lawd!</td>\n",
       "    </tr>\n",
       "    <tr>\n",
       "      <th>2</th>\n",
       "      <td>for dad :)</td>\n",
       "      <td>NaN</td>\n",
       "      <td>Late Night (feat. Masego)</td>\n",
       "      <td>GoldLink</td>\n",
       "      <td>And After That, We Didn't Talk</td>\n",
       "    </tr>\n",
       "    <tr>\n",
       "      <th>3</th>\n",
       "      <td>for dad :)</td>\n",
       "      <td>NaN</td>\n",
       "      <td>Let Me Know</td>\n",
       "      <td>Brent Faiyaz</td>\n",
       "      <td>Fuck The World</td>\n",
       "    </tr>\n",
       "    <tr>\n",
       "      <th>4</th>\n",
       "      <td>for dad :)</td>\n",
       "      <td>NaN</td>\n",
       "      <td>Good Morning Love [Feat. Samora Pinderhughes]</td>\n",
       "      <td>Common</td>\n",
       "      <td>Let Love</td>\n",
       "    </tr>\n",
       "    <tr>\n",
       "      <th>...</th>\n",
       "      <td>...</td>\n",
       "      <td>...</td>\n",
       "      <td>...</td>\n",
       "      <td>...</td>\n",
       "      <td>...</td>\n",
       "    </tr>\n",
       "    <tr>\n",
       "      <th>2798</th>\n",
       "      <td>𝘤𝘳𝘶𝘪𝘴𝘪𝘯𝘨 𝘪𝘯 𝘬𝘺𝘰𝘵𝘰</td>\n",
       "      <td>NaN</td>\n",
       "      <td>Gotham City</td>\n",
       "      <td>Bladee</td>\n",
       "      <td>Gotham City</td>\n",
       "    </tr>\n",
       "    <tr>\n",
       "      <th>2799</th>\n",
       "      <td>𝘤𝘳𝘶𝘪𝘴𝘪𝘯𝘨 𝘪𝘯 𝘬𝘺𝘰𝘵𝘰</td>\n",
       "      <td>NaN</td>\n",
       "      <td>Sesame Street</td>\n",
       "      <td>Bladee</td>\n",
       "      <td>Sesame Street</td>\n",
       "    </tr>\n",
       "    <tr>\n",
       "      <th>2800</th>\n",
       "      <td>𝘤𝘳𝘶𝘪𝘴𝘪𝘯𝘨 𝘪𝘯 𝘬𝘺𝘰𝘵𝘰</td>\n",
       "      <td>NaN</td>\n",
       "      <td>Trial</td>\n",
       "      <td>Bladee</td>\n",
       "      <td>Exile</td>\n",
       "    </tr>\n",
       "    <tr>\n",
       "      <th>2801</th>\n",
       "      <td>𝘤𝘳𝘶𝘪𝘴𝘪𝘯𝘨 𝘪𝘯 𝘬𝘺𝘰𝘵𝘰</td>\n",
       "      <td>NaN</td>\n",
       "      <td>Sentence</td>\n",
       "      <td>Bladee</td>\n",
       "      <td>Exile</td>\n",
       "    </tr>\n",
       "    <tr>\n",
       "      <th>2802</th>\n",
       "      <td>𝘤𝘳𝘶𝘪𝘴𝘪𝘯𝘨 𝘪𝘯 𝘬𝘺𝘰𝘵𝘰</td>\n",
       "      <td>NaN</td>\n",
       "      <td>For You</td>\n",
       "      <td>Bladee</td>\n",
       "      <td>Red Light</td>\n",
       "    </tr>\n",
       "  </tbody>\n",
       "</table>\n",
       "<p>2803 rows × 5 columns</p>\n",
       "</div>"
      ],
      "text/plain": [
       "                   name lastModifiedDate  \\\n",
       "0       My Playlist #28       2024-06-10   \n",
       "1            for dad :)       2024-06-16   \n",
       "2            for dad :)              NaN   \n",
       "3            for dad :)              NaN   \n",
       "4            for dad :)              NaN   \n",
       "...                 ...              ...   \n",
       "2798  𝘤𝘳𝘶𝘪𝘴𝘪𝘯𝘨 𝘪𝘯 𝘬𝘺𝘰𝘵𝘰              NaN   \n",
       "2799  𝘤𝘳𝘶𝘪𝘴𝘪𝘯𝘨 𝘪𝘯 𝘬𝘺𝘰𝘵𝘰              NaN   \n",
       "2800  𝘤𝘳𝘶𝘪𝘴𝘪𝘯𝘨 𝘪𝘯 𝘬𝘺𝘰𝘵𝘰              NaN   \n",
       "2801  𝘤𝘳𝘶𝘪𝘴𝘪𝘯𝘨 𝘪𝘯 𝘬𝘺𝘰𝘵𝘰              NaN   \n",
       "2802  𝘤𝘳𝘶𝘪𝘴𝘪𝘯𝘨 𝘪𝘯 𝘬𝘺𝘰𝘵𝘰              NaN   \n",
       "\n",
       "                                          trackName    artistName  \\\n",
       "0                                               NaN           NaN   \n",
       "1                                             Suede     NxWorries   \n",
       "2                         Late Night (feat. Masego)      GoldLink   \n",
       "3                                       Let Me Know  Brent Faiyaz   \n",
       "4     Good Morning Love [Feat. Samora Pinderhughes]        Common   \n",
       "...                                             ...           ...   \n",
       "2798                                    Gotham City        Bladee   \n",
       "2799                                  Sesame Street        Bladee   \n",
       "2800                                          Trial        Bladee   \n",
       "2801                                       Sentence        Bladee   \n",
       "2802                                        For You        Bladee   \n",
       "\n",
       "                           albumName  \n",
       "0                                NaN  \n",
       "1                          Yes Lawd!  \n",
       "2     And After That, We Didn't Talk  \n",
       "3                     Fuck The World  \n",
       "4                           Let Love  \n",
       "...                              ...  \n",
       "2798                     Gotham City  \n",
       "2799                   Sesame Street  \n",
       "2800                           Exile  \n",
       "2801                           Exile  \n",
       "2802                       Red Light  \n",
       "\n",
       "[2803 rows x 5 columns]"
      ]
     },
     "execution_count": 50,
     "metadata": {},
     "output_type": "execute_result"
    }
   ],
   "source": [
    "playlists #reprinting playlist df"
   ]
  },
  {
   "cell_type": "code",
   "execution_count": 51,
   "id": "8b799074-bd59-44cf-b520-08e6e3120d48",
   "metadata": {
    "jupyter": {
     "source_hidden": true
    }
   },
   "outputs": [
    {
     "data": {
      "text/plain": [
       "array(['My Playlist #28', 'for dad :)', 'stop trying to be god',\n",
       "       'songs i found and liked while high', 'songs i’ll show my kids',\n",
       "       'trap songs i consider modern day poetry',\n",
       "       'drowning out the voices', '𝘬𝘪𝘴𝘴 𝘮𝘦 𝘩𝘢𝘳𝘥', 'slowed + reverbed',\n",
       "       'lock in!', 'there it is again, that funny feeling',\n",
       "       'throwback jamz', 'adolescence', '🍄🍄🍄', 'songs about her',\n",
       "       'we’re gonna be ok', 'you scarin’ the hoes bro',\n",
       "       'jesus is cool again', 'rage: bleghhh',\n",
       "       'how much punk could a pop punk pop if a pop punk could pop punk?',\n",
       "       'good morning nigga', 'songs for gland to gland combat',\n",
       "       '𝘢𝘴𝘵𝘳𝘢𝘭 𝘱𝘳𝘰𝘫𝘦𝘤𝘵𝘪𝘰𝘯', 'rage', 'maybe some day you will love me...',\n",
       "       'jazz cabbage tunez', '𝘩𝘦𝘢𝘳𝘵 > 𝘮𝘪𝘯𝘥', '𝘤𝘳𝘶𝘪𝘴𝘪𝘯𝘨 𝘪𝘯 𝘬𝘺𝘰𝘵𝘰'],\n",
       "      dtype=object)"
      ]
     },
     "execution_count": 51,
     "metadata": {},
     "output_type": "execute_result"
    }
   ],
   "source": [
    "# list of playlists name with NO duplicates meaning .unique\n",
    "playlists['name'].unique()"
   ]
  },
  {
   "cell_type": "code",
   "execution_count": 52,
   "id": "48c85ee9-954e-4243-8fd6-9d1fe833c351",
   "metadata": {
    "jupyter": {
     "source_hidden": true
    }
   },
   "outputs": [
    {
     "data": {
      "text/plain": [
       "28"
      ]
     },
     "execution_count": 52,
     "metadata": {},
     "output_type": "execute_result"
    }
   ],
   "source": [
    "playlists['name'].nunique()\n",
    "# Count the number of unique values(or playlists) in the column with the function 'nunique()' used below"
   ]
  },
  {
   "cell_type": "code",
   "execution_count": 53,
   "id": "31cf5454-74f0-450a-bf59-aca69e2f7da3",
   "metadata": {
    "jupyter": {
     "source_hidden": true
    }
   },
   "outputs": [
    {
     "data": {
      "text/plain": [
       "name\n",
       "adolescence                                                         310\n",
       "jazz cabbage tunez                                                  269\n",
       "maybe some day you will love me...                                  251\n",
       "how much punk could a pop punk pop if a pop punk could pop punk?    245\n",
       "🍄🍄🍄                                                                 217\n",
       "good morning nigga                                                  187\n",
       "slowed + reverbed                                                   151\n",
       "rage: bleghhh                                                       136\n",
       "𝘢𝘴𝘵𝘳𝘢𝘭 𝘱𝘳𝘰𝘫𝘦𝘤𝘵𝘪𝘰𝘯                                                   131\n",
       "𝘬𝘪𝘴𝘴 𝘮𝘦 𝘩𝘢𝘳𝘥                                                        127\n",
       "𝘩𝘦𝘢𝘳𝘵 > 𝘮𝘪𝘯𝘥                                                        113\n",
       "songs for gland to gland combat                                     111\n",
       "throwback jamz                                                      104\n",
       "𝘤𝘳𝘶𝘪𝘴𝘪𝘯𝘨 𝘪𝘯 𝘬𝘺𝘰𝘵𝘰                                                    82\n",
       "rage                                                                 78\n",
       "you scarin’ the hoes bro                                             78\n",
       "lock in!                                                             66\n",
       "drowning out the voices                                              38\n",
       "there it is again, that funny feeling                                33\n",
       "songs about her                                                      31\n",
       "jesus is cool again                                                  18\n",
       "for dad :)                                                           10\n",
       "we’re gonna be ok                                                     6\n",
       "songs i’ll show my kids                                               5\n",
       "songs i found and liked while high                                    3\n",
       "trap songs i consider modern day poetry                               1\n",
       "My Playlist #28                                                       1\n",
       "stop trying to be god                                                 1\n",
       "Name: count, dtype: int64"
      ]
     },
     "execution_count": 53,
     "metadata": {},
     "output_type": "execute_result"
    }
   ],
   "source": [
    "pd.value_counts(playlists['name'])\n",
    "# count of songs on each playlists"
   ]
  },
  {
   "cell_type": "code",
   "execution_count": 54,
   "id": "67e85678-576c-4ca8-9e70-f528b6bd5311",
   "metadata": {
    "jupyter": {
     "source_hidden": true
    }
   },
   "outputs": [
    {
     "data": {
      "image/png": "[encoded data removed]",
      "text/plain": [
       "<Figure size 640x480 with 1 Axes>"
      ]
     },
     "metadata": {},
     "output_type": "display_data"
    }
   ],
   "source": [
    "pd.value_counts(playlists['name']).head(20).plot(kind='bar', color='forestgreen')\n",
    "plt.xticks(rotation=45, ha='right')\n",
    "plt.title('June 27, 2023 - August 15, 2023 | Count of Songs Per Playlist')\n",
    "plt.ylabel('Count')\n",
    "plt.xlabel('Playlists Names')\n",
    "figsize=(80,80)\n",
    "# emojis in some of my playlist names :("
   ]
  },
  {
   "cell_type": "markdown",
   "id": "ed0ff02d-aa1b-4869-bc68-f2cc737eec82",
   "metadata": {},
   "source": [
    "## Goal: Timeline of the last time each playlists was modified"
   ]
  },
  {
   "cell_type": "code",
   "execution_count": null,
   "id": "257602e2-59e9-4462-91e8-16057607d037",
   "metadata": {},
   "outputs": [],
   "source": [
    "# Pull columns: 'name' and 'lastModifiedDate'\n",
    "# Note: 'Nan' value is in the 'lastModifiedDate' column because we did not extend the previous value like we did tor the 'name column'\n",
    "playlists[['name','lastModifiedDate']]"
   ]
  },
  {
   "cell_type": "code",
   "execution_count": null,
   "id": "479ff501-bc85-4d11-b023-29124f56b31f",
   "metadata": {
    "jupyter": {
     "source_hidden": true
    }
   },
   "outputs": [],
   "source": [
    "playlists[['name','lastModifiedDate']].dropna() # selecting two columns and dropping rows with NaN/no date values in the 'lastModifiedDate' column"
   ]
  },
  {
   "cell_type": "code",
   "execution_count": 55,
   "id": "69153930-0b86-4f8a-a661-ef7f46318e11",
   "metadata": {
    "jupyter": {
     "source_hidden": true
    }
   },
   "outputs": [
    {
     "data": {
      "image/png": "[encoded data removed]",
      "text/plain": [
       "<Figure size 2000x2000 with 1 Axes>"
      ]
     },
     "metadata": {},
     "output_type": "display_data"
    }
   ],
   "source": [
    "# packages used to execute this section\n",
    "import _strptime\n",
    "from datetime import timedelta\n",
    "import matplotlib.pyplot as plt\n",
    "from datetime import datetime\n",
    "import numpy as np\n",
    "\n",
    "%matplotlib inline\n",
    "# Assigning a variable to the list of 'lastModifiedDate' values-without null values\n",
    "dates=playlists['lastModifiedDate'].dropna()\n",
    "# Convert date strings (e.g. 2020-10-12) to datetime\n",
    "dates=[datetime.strptime(d, '%Y-%m-%d') for d in dates]\n",
    "\n",
    "min_dates = date(np.min(dates).year, np.min(dates).month - 3, np.min(dates).day)\n",
    "max_dates = date(np.max(dates).year, np.max(dates).month + 3, np.max(dates).day) # editing the length of the time covered on the line -displaying the timeframe plus 3 months before & after\n",
    "names=playlists['name'].unique() # variable assigned to playlist names, unique so none are repeated\n",
    "\n",
    "labels = ['{0:%d %b %Y}:\\n{1}'.format(d, name) for name, d in zip(names, dates)] # labels with associated dates\n",
    "\n",
    "fig, ax = plt.subplots(figsize=(20,20), constrained_layout=True) # size of visual\n",
    "_ = ax.set_xlim(-20, 20)\n",
    "_ = ax.set_ylim(max_dates, min_dates)\n",
    "_ = ax.axvline(0, ymin=0.05, ymax=0.95, c='green', zorder=1) #features of the vertical line\n",
    "\n",
    "_ = ax.scatter(np.zeros(len(dates)), dates, s=45, c='black', zorder = 2) # dots on vertical line signifying when modified\n",
    "_ = ax.scatter(np.zeros(len(dates)), dates, s=45, c='black', zorder = 3) # more dots lol\n",
    "\n",
    "label_offsets = np.repeat(3.0, len(dates)) # left and right spacing of labels\n",
    "label_offsets [1::2] = -3.0 # space between left and right labels\n",
    "for i, (name, d) in enumerate(zip(names, dates)):\n",
    "    d = d - timedelta(days=0) # positioning accuracy of the dates\n",
    "    align = 'right'\n",
    "    vertical_offset = 30\n",
    "    if i % 2 == 0:\n",
    "        align = 'left'\n",
    "    _ = ax.text(label_offsets[i], d, name, ha=align, fontfamily='serif', fontweight='bold', color='black', fontsize=10)\n",
    "\n",
    "# more formatting\n",
    "stems = np.repeat(2.0, len(dates)) # length of vertical lines\n",
    "stems[1::2] *= -1.0 # length of vertical lines on the left side of the line graph\n",
    "x = ax.hlines(dates, 0, stems, color='green') #vertical lines color\n",
    "\n",
    "# hiding lines around the chart\n",
    "for spine in ['right', 'top', 'bottom']:\n",
    "    _ = ax.spines[spine].set_visible(False)\n",
    "\n",
    "# hide tick labels\n",
    "_ = ax.set_xticks([]) # hiding x-axis intervals\n",
    "\n",
    "#Note to self: '\\s' needs to be added when using an apostrophe otherwise python will think its a quote\n",
    "_ = ax.set_title('Last Date Modified for Jei\\'s Playlists', fontweight='bold', fontfamily='serif', fontsize=12, color='black')"
   ]
  },
  {
   "cell_type": "code",
   "execution_count": null,
   "id": "e6904712-2b20-4fad-8b4a-525d0d34bbd5",
   "metadata": {
    "jupyter": {
     "source_hidden": true
    }
   },
   "outputs": [],
   "source": [
    "Findings throughout project: Excel is so much easier, faster, and intuitive to pre-process and clean data than doing it in python."
   ]
  },
  {
   "cell_type": "code",
   "execution_count": 56,
   "id": "43fe852a-6876-4ef0-9696-232a3bb56261",
   "metadata": {
    "jupyter": {
     "source_hidden": true
    }
   },
   "outputs": [
    {
     "name": "stdout",
     "output_type": "stream",
     "text": [
      "DataFrame is written to Excel File successfully.\n"
     ]
    }
   ],
   "source": [
    "file_name = 'playlist_modifiedtime_timeline_for_tableau.xlsx'\n",
    "playlists.to_excel('playlist_modifiedtime_timeline_for_tableau.xlsx')\n",
    "print('DataFrame is written to Excel File successfully.')\n",
    "# this is me exporting the df for playlists to excel so i can redo the timeline and create a dashboard but in tableau!"
   ]
  },
  {
   "cell_type": "markdown",
   "id": "d0ef8665-f0df-4b48-8277-4e44acea0efc",
   "metadata": {},
   "source": [
    "## Timeline of Playlist Modifications Done W/ Tableau"
   ]
  },
  {
   "cell_type": "code",
   "execution_count": 9,
   "id": "d38c11e3-ef8b-43d7-a8e4-610be5950a4a",
   "metadata": {
    "jupyter": {
     "source_hidden": true
    }
   },
   "outputs": [
    {
     "data": {
      "text/html": [
       "<img src=\"Screen Shot 2024-07-08 at 12.31.48 PM.png\" width=\"1000\" height=\"1000\"/>"
      ],
      "text/plain": [
       "<IPython.core.display.Image object>"
      ]
     },
     "execution_count": 9,
     "metadata": {},
     "output_type": "execute_result"
    }
   ],
   "source": [
    "Image(url=\"Screen Shot 2024-07-08 at 12.31.48 PM.png\", width=1000, height=1000)"
   ]
  },
  {
   "cell_type": "markdown",
   "id": "eb225682-bea6-4315-9e05-eb591a3d7eaf",
   "metadata": {},
   "source": [
    "### And for fun, I made two word clouds as well showing the frequency of albums and artists within ALL my playlists and each individual playlist using filters!"
   ]
  },
  {
   "cell_type": "code",
   "execution_count": 11,
   "id": "78718f6f-41c5-499f-9cae-a541f775bbd8",
   "metadata": {
    "jupyter": {
     "source_hidden": true
    }
   },
   "outputs": [
    {
     "data": {
      "text/html": [
       "<img src=\"Screen Shot 2024-07-08 at 4.33.37 PM.png\" width=\"1000\" height=\"1000\"/>"
      ],
      "text/plain": [
       "<IPython.core.display.Image object>"
      ]
     },
     "execution_count": 11,
     "metadata": {},
     "output_type": "execute_result"
    }
   ],
   "source": [
    "Image(url=\"Screen Shot 2024-07-08 at 4.33.37 PM.png\", width=1000, height=1000)"
   ]
  },
  {
   "cell_type": "code",
   "execution_count": 23,
   "id": "a71a9a8e-a553-4dcb-b4db-2cc9e42c4a71",
   "metadata": {
    "jupyter": {
     "source_hidden": true
    }
   },
   "outputs": [
    {
     "data": {
      "text/html": [
       "<img src=\"Screen Shot 2024-07-08 at 7.00.55 PM.png\" width=\"1000\" height=\"1000\"/>"
      ],
      "text/plain": [
       "<IPython.core.display.Image object>"
      ]
     },
     "execution_count": 23,
     "metadata": {},
     "output_type": "execute_result"
    }
   ],
   "source": [
    "Image(url=\"Screen Shot 2024-07-08 at 7.00.55 PM.png\", width=1000, height=1000)"
   ]
  },
  {
   "cell_type": "code",
   "execution_count": null,
   "id": "7c65d906-fddd-4bd6-ad63-9b37852f3574",
   "metadata": {
    "editable": true,
    "jupyter": {
     "source_hidden": true
    },
    "slideshow": {
     "slide_type": ""
    },
    "tags": []
   },
   "outputs": [],
   "source": [
    "With the above visuals, you can easily see which artists and/or albums take the spotlight within my playlist!"
   ]
  },
  {
   "cell_type": "markdown",
   "id": "83d80ce7-af8d-4800-bdb4-adc3862e21a7",
   "metadata": {},
   "source": [
    "### My Final Dashboard"
   ]
  },
  {
   "cell_type": "code",
   "execution_count": 27,
   "id": "dbddc12e-fc1f-43dd-994a-0b86364dd8ab",
   "metadata": {
    "jupyter": {
     "source_hidden": true
    }
   },
   "outputs": [
    {
     "data": {
      "text/html": [
       "<img src=\"Screen Shot 2024-07-09 at 5.13.07 AM.png\" width=\"1000\" height=\"1000\"/>"
      ],
      "text/plain": [
       "<IPython.core.display.Image object>"
      ]
     },
     "execution_count": 27,
     "metadata": {},
     "output_type": "execute_result"
    }
   ],
   "source": [
    "Image(url=\"Screen Shot 2024-07-09 at 5.13.07 AM.png\", width=1000, height=1000)"
   ]
  },
  {
   "cell_type": "code",
   "execution_count": null,
   "id": "9ac9cfe8-ed99-453c-b3eb-facc7dc14cea",
   "metadata": {
    "jupyter": {
     "source_hidden": true
    }
   },
   "outputs": [],
   "source": []
  }
 ],
 "metadata": {
  "kernelspec": {
   "display_name": "Python (spotify_api)",
   "language": "python",
   "name": "spotify_api"
  },
  "language_info": {
   "codemirror_mode": {
    "name": "ipython",
    "version": 3
   },
   "file_extension": ".py",
   "mimetype": "text/x-python",
   "name": "python",
   "nbconvert_exporter": "python",
   "pygments_lexer": "ipython3",
   "version": "3.12.2"
  }
 },
 "nbformat": 4,
 "nbformat_minor": 5
}
